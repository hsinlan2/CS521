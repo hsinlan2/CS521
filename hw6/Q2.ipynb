{
 "cells": [
  {
   "cell_type": "code",
   "execution_count": 2,
   "id": "2b91aa45-50f0-4920-b945-2f3752b38d4f",
   "metadata": {},
   "outputs": [],
   "source": [
    "import torch\n",
    "import torchvision\n",
    "import torch.nn as nn\n",
    "import torch.optim as optim\n",
    "from torchvision.models import resnet18\n",
    "import torch.nn.functional as F\n",
    "import torchvision.transforms as transforms\n",
    "import torchvision.models as models\n",
    "\n",
    "import captum\n",
    "from captum.attr import IntegratedGradients, Occlusion, LayerGradCam, LayerAttribution\n",
    "from captum.attr import visualization as viz\n",
    "\n",
    "import numpy as np\n",
    "from PIL import Image\n",
    "import matplotlib.pyplot as plt\n",
    "from matplotlib.colors import LinearSegmentedColormap"
   ]
  },
  {
   "cell_type": "code",
   "execution_count": 3,
   "id": "aad4ce28-9ce7-483f-9776-b381ce198de1",
   "metadata": {},
   "outputs": [],
   "source": [
    "# Select Device\n",
    "device = torch.device(\"cuda:0\" if torch.cuda.is_available() else \"cpu\")"
   ]
  },
  {
   "cell_type": "code",
   "execution_count": 4,
   "id": "225464b5-2a52-4fcb-ba33-0a1ace4c8502",
   "metadata": {},
   "outputs": [],
   "source": [
    "# CIFAR-10 data\n",
    "mean = (0.4914, 0.4822, 0.4465)\n",
    "std = (0.247, 0.243, 0.261)\n",
    "transform = transforms.Compose([\n",
    "    transforms.ToTensor(),\n",
    "    transforms.Normalize(mean, std) \n",
    "])"
   ]
  },
  {
   "cell_type": "code",
   "execution_count": 5,
   "id": "41ee2bb8-6fdc-41ee-8394-d717bf2b31ee",
   "metadata": {},
   "outputs": [
    {
     "name": "stdout",
     "output_type": "stream",
     "text": [
      "Files already downloaded and verified\n",
      "Files already downloaded and verified\n"
     ]
    }
   ],
   "source": [
    "# Create Train and Test Loaders\n",
    "train_dataset = torchvision.datasets.CIFAR10(root='./data', train=True, download=True, transform=transform)\n",
    "train_loader = torch.utils.data.DataLoader(train_dataset, batch_size=128, shuffle=True, num_workers=2)\n",
    "\n",
    "test_dataset = torchvision.datasets.CIFAR10(root='./data', train=False, download=True, transform=transform)\n",
    "test_loader = torch.utils.data.DataLoader(test_dataset, batch_size=128, shuffle=False, num_workers=2)"
   ]
  },
  {
   "cell_type": "code",
   "execution_count": 6,
   "id": "4ed8eed7-6a33-4f80-b3af-b0c7779aaf24",
   "metadata": {},
   "outputs": [],
   "source": [
    "# Create Dictionary for CIFAR-10 data\n",
    "cifar_10_labels = {0: 'airplane',1: 'automobile',2: 'bird',3: 'cat', 4: 'deer', \n",
    "    5: 'dog', 6: 'frog', 7: 'horse',8: 'ship', 9: 'truck'}"
   ]
  },
  {
   "cell_type": "code",
   "execution_count": 7,
   "id": "46a6b1b9-c0bd-413e-ae7f-bd4d36724a5c",
   "metadata": {},
   "outputs": [],
   "source": [
    "# Use Resnet 18 \n",
    "model = resnet18(weights=None)\n",
    "model.fc = nn.Linear(model.fc.in_features, 10)\n",
    "# Define loss function and optimizer\n",
    "criterion = nn.CrossEntropyLoss()\n",
    "optimizer = optim.SGD(model.parameters(), lr=0.1, momentum=0.9, weight_decay=0.0001)"
   ]
  },
  {
   "cell_type": "code",
   "execution_count": 8,
   "id": "59012a84-f3f5-4d5c-b87e-650369bdba92",
   "metadata": {},
   "outputs": [],
   "source": [
    "# Train Model\n",
    "model.to(device)\n",
    "for epoch in range(1, 10):\n",
    "    model.train()  # Set the model to training mode\n",
    "    for batch_idx, (x_batch, y_batch) in enumerate(train_loader):\n",
    "        x_batch, y_batch = x_batch.to(device), y_batch.to(device)\n",
    "        optimizer.zero_grad()\n",
    "        out = model(x_batch)\n",
    "        batch_loss = criterion(out, y_batch)\n",
    "        batch_loss.backward()\n",
    "        optimizer.step()"
   ]
  },
  {
   "cell_type": "code",
   "execution_count": 9,
   "id": "b65a7658-9422-4e43-b627-eeb37b6265fc",
   "metadata": {},
   "outputs": [
    {
     "name": "stdout",
     "output_type": "stream",
     "text": [
      "Accuracy: 0.7105\n"
     ]
    }
   ],
   "source": [
    "# Evaluate Model\n",
    "model.eval()\n",
    "tot_test, tot_acc = 0.0, 0.0\n",
    "for batch_idx, (x_batch, y_batch) in enumerate(test_loader):\n",
    "    x_batch, y_batch = x_batch.to(device), y_batch.to(device)\n",
    "    out = model(x_batch)\n",
    "    pred = torch.max(out, dim=1)[1]\n",
    "    acc = pred.eq(y_batch).sum().item()\n",
    "    tot_acc += acc\n",
    "    tot_test += x_batch.size()[0]\n",
    "    \n",
    "print(f\"Accuracy: {tot_acc/tot_test}\")"
   ]
  },
  {
   "cell_type": "markdown",
   "id": "848035f9-c5d4-445e-bf25-6b8f95ac879f",
   "metadata": {},
   "source": [
    "### Integrated Gradients on Self-Trained ResNet (no Adversarial)"
   ]
  },
  {
   "cell_type": "code",
   "execution_count": 10,
   "id": "ed95aed2-9625-4d37-b5c4-15d7b2d5de49",
   "metadata": {},
   "outputs": [],
   "source": [
    "# Define Integrated Gradients \n",
    "ig = IntegratedGradients(model)\n",
    "\n",
    "# Select Image to Demonstrate Saliency Map for\n",
    "sample_idx = 10\n",
    "sample_img = test_loader.dataset[sample_idx][0]\n",
    "sample_img_label = test_loader.dataset[sample_idx][1]\n",
    "\n",
    "unnormalize = transforms.Normalize((-mean[0] / std[0], -mean[1] / std[1], -mean[2] / std[2]),\n",
    "                                   (1.0 / std[0], 1.0 / std[1], 1.0 / std[2]))\n",
    "unnormalized_img = unnormalize(sample_img)\n",
    "\n",
    "# Calculate attributions using Integrated Gradients\n",
    "attributions = ig.attribute(sample_img.to(device).unsqueeze(0), target=sample_img_label, n_steps = 200)"
   ]
  },
  {
   "cell_type": "code",
   "execution_count": 11,
   "id": "e8c84cdc-bbbb-4345-8f90-3887a2e3cb25",
   "metadata": {},
   "outputs": [
    {
     "name": "stdout",
     "output_type": "stream",
     "text": [
      "label is 0 (airplane)\n"
     ]
    },
    {
     "data": {
      "image/png": "[encoded data removed]",
      "text/plain": [
       "<Figure size 600x600 with 1 Axes>"
      ]
     },
     "metadata": {},
     "output_type": "display_data"
    },
    {
     "data": {
      "image/png": "[encoded data removed]",
      "text/plain": [
       "<Figure size 600x600 with 2 Axes>"
      ]
     },
     "metadata": {},
     "output_type": "display_data"
    }
   ],
   "source": [
    "# Visualize Saliency Map and Compare to Original Image\n",
    "print(f\"label is {sample_img_label} ({cifar_10_labels[sample_img_label]})\")\n",
    "_ = viz.visualize_image_attr(None, np.transpose(unnormalized_img.cpu().detach().numpy(), (1,2,0)),\n",
    "                      method=\"original_image\", title=\"Original Image\")\n",
    "default_cmap = LinearSegmentedColormap.from_list('custom blue',\n",
    "                                                 [(0, '#ffffff'),\n",
    "                                                  (0.25, '#0000ff'),\n",
    "                                                  (1, '#0000ff')], N=256)\n",
    "_ = viz.visualize_image_attr(np.transpose(attributions.squeeze().cpu().detach().numpy(), (1,2,0)),\n",
    "                             np.transpose(unnormalized_img.cpu().detach().numpy(), (1,2,0)),\n",
    "                             method='heat_map',\n",
    "                             cmap=default_cmap,\n",
    "                             show_colorbar=True,\n",
    "                             sign='positive',\n",
    "                             title='Integrated Gradients')"
   ]
  },
  {
   "cell_type": "markdown",
   "id": "ed2841e0-5b44-4fbc-918d-606696820d63",
   "metadata": {},
   "source": [
    "### Adversarial Training with PGD "
   ]
  },
  {
   "cell_type": "code",
   "execution_count": 12,
   "id": "49dec378-2140-461d-9c8e-58bfd10314a7",
   "metadata": {},
   "outputs": [],
   "source": [
    "# Define PGD Attack\n",
    "def pgd_attack(model, x, labels, eps, alpha, iters):\n",
    "    x = x.to(device)\n",
    "    labels = labels.to(device)\n",
    "    d = torch.zeros_like(x, requires_grad=True)\n",
    "    \n",
    "    for i in range(iters):\n",
    "        adv_x = x + d\n",
    "        out = model(adv_x)\n",
    "        loss = criterion(out, labels)\n",
    "        loss.backward()\n",
    "        d.data = (d + alpha * d.grad.detach().sign()).clamp(-eps, eps)\n",
    "        d.grad.zero_()\n",
    "    \n",
    "    adv_x = x + d\n",
    "    adv_x = torch.clamp(adv_x, min=0, max=1)\n",
    "    return adv_x"
   ]
  },
  {
   "cell_type": "markdown",
   "id": "c6eac4af-06a2-4798-a6e9-3d5c719495e3",
   "metadata": {},
   "source": [
    "### Use eps = 0.01"
   ]
  },
  {
   "cell_type": "code",
   "execution_count": 13,
   "id": "520ad703-c32b-4cf1-88c2-e7e56ef27962",
   "metadata": {},
   "outputs": [],
   "source": [
    "# Use Resnet 18 \n",
    "model = resnet18(weights=None)\n",
    "model.fc = nn.Linear(model.fc.in_features, 10)\n",
    "# Define loss function and optimizer\n",
    "criterion = nn.CrossEntropyLoss()\n",
    "optimizer = optim.SGD(model.parameters(), lr=0.1, momentum=0.9, weight_decay=0.0001)\n",
    "model = model.to(device)"
   ]
  },
  {
   "cell_type": "code",
   "execution_count": 14,
   "id": "f411c3f6-b3dc-4f76-91a4-d2cda1b0d0f6",
   "metadata": {},
   "outputs": [
    {
     "name": "stdout",
     "output_type": "stream",
     "text": [
      "Accuracy on adversarial test set: 9.10%\n"
     ]
    }
   ],
   "source": [
    "# Check Accuracy on Adversarial Images Only Before Adversarial Training \n",
    "model.eval()\n",
    "correct = 0\n",
    "total = 0\n",
    "\n",
    "for images, labels in test_loader:\n",
    "    images, labels = images.to(device), labels.to(device)\n",
    "    adv_images = pgd_attack(model, images, labels, eps=0.01, alpha=0.5, iters=5)\n",
    "    \n",
    "    outputs = model(adv_images)\n",
    "    predicted = torch.max(outputs, 1)[1]\n",
    "    total += labels.size(0)\n",
    "    correct += (predicted == labels).sum().item()\n",
    "\n",
    "accuracy = 100 * correct / total\n",
    "print(f'Accuracy on adversarial test set: {accuracy:.2f}%')"
   ]
  },
  {
   "cell_type": "code",
   "execution_count": 15,
   "id": "34b2ad22-0057-432a-8533-c4a5404955b6",
   "metadata": {},
   "outputs": [],
   "source": [
    "# Adversarial Training\n",
    "def train_model(model, num_epochs, enable_defense=True):\n",
    "    opt = optim.SGD(model.parameters(), lr=0.1, momentum=0.9, weight_decay=0.0001)\n",
    "    ce_loss = nn.CrossEntropyLoss()\n",
    "    tot_steps = 0\n",
    "\n",
    "    for epoch in range(1,num_epochs+1):\n",
    "        for batch_idx, (x_batch, y_batch) in enumerate(train_loader):\n",
    "            if enable_defense:\n",
    "                model.eval()   # Switch to eval mode while generating attack\n",
    "                x_batch, y_batch = x_batch.to(device), y_batch.to(device)\n",
    "                adv_x_batch = pgd_attack(model, x_batch, y_batch, eps=0.01, alpha=0.5, iters=5)\n",
    "                adv_x_batch = adv_x_batch.to(device)\n",
    "                # include adv image for training\n",
    "                model.train()\n",
    "                out = model(adv_x_batch)\n",
    "                batch_loss = ce_loss(out, y_batch)\n",
    "                tot_steps += 1\n",
    "                opt.zero_grad()\n",
    "                batch_loss.backward()\n",
    "                opt.step()\n",
    "                # include original image for training\n",
    "                model.train()\n",
    "                out = model(x_batch)\n",
    "                batch_loss = ce_loss(out, y_batch)\n",
    "                tot_steps += 1\n",
    "                opt.zero_grad()\n",
    "                batch_loss.backward()\n",
    "                opt.step()\n",
    "                \n",
    "        #Check Accuracy on Adversarial Images Only After Adversarial Training \n",
    "        tot_test, tot_acc = 0.0, 0.0\n",
    "        for batch_idx, (x_batch, y_batch) in enumerate(test_loader):\n",
    "            x_batch, y_batch = x_batch.to(device), y_batch.to(device)\n",
    "            adv_x_batch = pgd_attack(model, x_batch, y_batch, eps=0.01, alpha=0.5, iters=5)\n",
    "            adv_x_batch = adv_x_batch.to(device)\n",
    "            out = model(adv_x_batch)\n",
    "            pred = torch.max(out, dim=1)[1]\n",
    "            acc = pred.eq(y_batch).sum().item()\n",
    "            tot_acc += acc\n",
    "            tot_test += x_batch.size()[0]\n",
    "        print('Epoch %d: Accuracy on Adv Set Only: %.5lf' % (epoch, tot_acc/tot_test))"
   ]
  },
  {
   "cell_type": "code",
   "execution_count": 16,
   "id": "f7223407-b6b7-473e-a1a8-bb8e91de6226",
   "metadata": {},
   "outputs": [
    {
     "name": "stdout",
     "output_type": "stream",
     "text": [
      "Epoch 1: Accuracy on Adv Set Only: 0.39600\n",
      "Epoch 2: Accuracy on Adv Set Only: 0.47210\n",
      "Epoch 3: Accuracy on Adv Set Only: 0.53150\n",
      "Epoch 4: Accuracy on Adv Set Only: 0.53030\n",
      "Epoch 5: Accuracy on Adv Set Only: 0.57720\n",
      "Epoch 6: Accuracy on Adv Set Only: 0.58890\n",
      "Epoch 7: Accuracy on Adv Set Only: 0.58910\n",
      "Epoch 8: Accuracy on Adv Set Only: 0.59240\n",
      "Epoch 9: Accuracy on Adv Set Only: 0.59840\n",
      "Epoch 10: Accuracy on Adv Set Only: 0.60930\n"
     ]
    }
   ],
   "source": [
    "train_model(model, 10, enable_defense=True)"
   ]
  },
  {
   "cell_type": "code",
   "execution_count": 21,
   "id": "a2f2f7a8-ae4b-4bf7-9c7d-067e4e1ef532",
   "metadata": {},
   "outputs": [
    {
     "name": "stdout",
     "output_type": "stream",
     "text": [
      "label is 0 (airplane)\n"
     ]
    },
    {
     "data": {
      "image/png": "[encoded data removed]",
      "text/plain": [
       "<Figure size 600x600 with 1 Axes>"
      ]
     },
     "metadata": {},
     "output_type": "display_data"
    },
    {
     "data": {
      "image/png": "[encoded data removed]",
      "text/plain": [
       "<Figure size 600x600 with 2 Axes>"
      ]
     },
     "metadata": {},
     "output_type": "display_data"
    }
   ],
   "source": [
    "# Define Integrated Gradients \n",
    "ig = IntegratedGradients(model)\n",
    "\n",
    "# Select Image to Demonstrate Saliency Map for\n",
    "sample_idx = 10\n",
    "sample_img = test_loader.dataset[sample_idx][0]\n",
    "sample_img_label = test_loader.dataset[sample_idx][1]\n",
    "\n",
    "unnormalize = transforms.Normalize((-mean[0] / std[0], -mean[1] / std[1], -mean[2] / std[2]),\n",
    "                                   (1.0 / std[0], 1.0 / std[1], 1.0 / std[2]))\n",
    "unnormalized_img = unnormalize(sample_img)\n",
    "\n",
    "# Calculate attributions using Integrated Gradients\n",
    "attributions = ig.attribute(sample_img.to(device).unsqueeze(0), target=sample_img_label, n_steps = 200)\n",
    "\n",
    "# Visualize Saliency Map and Compare to Original Image\n",
    "print(f\"label is {sample_img_label} ({cifar_10_labels[sample_img_label]})\")\n",
    "_ = viz.visualize_image_attr(None, np.transpose(unnormalized_img.cpu().detach().numpy(), (1,2,0)),\n",
    "                      method=\"original_image\", title=\"Original Image\")\n",
    "default_cmap = LinearSegmentedColormap.from_list('custom blue',\n",
    "                                                 [(0, '#ffffff'),\n",
    "                                                  (0.25, '#0000ff'),\n",
    "                                                  (1, '#0000ff')], N=256)\n",
    "_ = viz.visualize_image_attr(np.transpose(attributions.squeeze().cpu().detach().numpy(), (1,2,0)),\n",
    "                             np.transpose(unnormalized_img.cpu().detach().numpy(), (1,2,0)),\n",
    "                             method='heat_map',\n",
    "                             cmap=default_cmap,\n",
    "                             show_colorbar=True,\n",
    "                             sign='positive',\n",
    "                             title='Integrated Gradients')"
   ]
  },
  {
   "cell_type": "markdown",
   "id": "ce4b96e1-1464-4040-b5de-219943576657",
   "metadata": {},
   "source": [
    "### Use eps = 0.1"
   ]
  },
  {
   "cell_type": "code",
   "execution_count": 22,
   "id": "91b52cda-e3b5-46b2-a9cd-21e22fa9a06d",
   "metadata": {},
   "outputs": [],
   "source": [
    "# Use Resnet 18 \n",
    "model = resnet18(weights=None)\n",
    "model.fc = nn.Linear(model.fc.in_features, 10)\n",
    "# Define loss function and optimizer\n",
    "criterion = nn.CrossEntropyLoss()\n",
    "optimizer = optim.SGD(model.parameters(), lr=0.1, momentum=0.9, weight_decay=0.0001)\n",
    "model = model.to(device)"
   ]
  },
  {
   "cell_type": "code",
   "execution_count": 23,
   "id": "c4b8261f-6867-42b3-8c1c-4fa7992c6c7a",
   "metadata": {},
   "outputs": [
    {
     "name": "stdout",
     "output_type": "stream",
     "text": [
      "Accuracy on adversarial test set: 8.36%\n"
     ]
    }
   ],
   "source": [
    "# Check Accuracy on Adversarial Images Only Before Adversarial Training \n",
    "model.eval()\n",
    "correct = 0\n",
    "total = 0\n",
    "\n",
    "for images, labels in test_loader:\n",
    "    images, labels = images.to(device), labels.to(device)\n",
    "    adv_images = pgd_attack(model, images, labels, eps=0.1, alpha=0.5, iters=5)\n",
    "    \n",
    "    outputs = model(adv_images)\n",
    "    predicted = torch.max(outputs, 1)[1]\n",
    "    total += labels.size(0)\n",
    "    correct += (predicted == labels).sum().item()\n",
    "\n",
    "accuracy = 100 * correct / total\n",
    "print(f'Accuracy on adversarial test set: {accuracy:.2f}%')"
   ]
  },
  {
   "cell_type": "code",
   "execution_count": 24,
   "id": "b203f5e3-7233-4ac5-88ee-e193aecbbcd3",
   "metadata": {},
   "outputs": [],
   "source": [
    "# Adversarial Training\n",
    "def train_model(model, num_epochs, enable_defense=True):\n",
    "    opt = optim.SGD(model.parameters(), lr=0.1, momentum=0.9, weight_decay=0.0001)\n",
    "    ce_loss = nn.CrossEntropyLoss()\n",
    "    tot_steps = 0\n",
    "\n",
    "    for epoch in range(1,num_epochs+1):\n",
    "        for batch_idx, (x_batch, y_batch) in enumerate(train_loader):\n",
    "            if enable_defense:\n",
    "                model.eval()   # Switch to eval mode while generating attack\n",
    "                x_batch, y_batch = x_batch.to(device), y_batch.to(device)\n",
    "                adv_x_batch = pgd_attack(model, x_batch, y_batch, eps=0.1, alpha=0.5, iters=5)\n",
    "                adv_x_batch = adv_x_batch.to(device)\n",
    "                # include adv image for training\n",
    "                model.train()\n",
    "                out = model(adv_x_batch)\n",
    "                batch_loss = ce_loss(out, y_batch)\n",
    "                tot_steps += 1\n",
    "                opt.zero_grad()\n",
    "                batch_loss.backward()\n",
    "                opt.step()\n",
    "                # include original image for training\n",
    "                model.train()\n",
    "                out = model(x_batch)\n",
    "                batch_loss = ce_loss(out, y_batch)\n",
    "                tot_steps += 1\n",
    "                opt.zero_grad()\n",
    "                batch_loss.backward()\n",
    "                opt.step()\n",
    "                \n",
    "        #Check Accuracy on Adversarial Images Only After Adversarial Training \n",
    "        tot_test, tot_acc = 0.0, 0.0\n",
    "        for batch_idx, (x_batch, y_batch) in enumerate(test_loader):\n",
    "            x_batch, y_batch = x_batch.to(device), y_batch.to(device)\n",
    "            adv_x_batch = pgd_attack(model, x_batch, y_batch, eps=0.1, alpha=0.5, iters=5)\n",
    "            adv_x_batch = adv_x_batch.to(device)\n",
    "            out = model(adv_x_batch)\n",
    "            pred = torch.max(out, dim=1)[1]\n",
    "            acc = pred.eq(y_batch).sum().item()\n",
    "            tot_acc += acc\n",
    "            tot_test += x_batch.size()[0]\n",
    "        print('Epoch %d: Accuracy on Adv Set Only%.5lf' % (epoch, tot_acc/tot_test))"
   ]
  },
  {
   "cell_type": "code",
   "execution_count": 25,
   "id": "5584ea13-a7bc-4e8c-b46a-b56e6a7cb67f",
   "metadata": {},
   "outputs": [
    {
     "name": "stdout",
     "output_type": "stream",
     "text": [
      "Epoch 1: Accuracy on Adv Set Only0.27340\n",
      "Epoch 2: Accuracy on Adv Set Only0.33870\n",
      "Epoch 3: Accuracy on Adv Set Only0.35590\n",
      "Epoch 4: Accuracy on Adv Set Only0.40690\n",
      "Epoch 5: Accuracy on Adv Set Only0.43190\n",
      "Epoch 6: Accuracy on Adv Set Only0.44200\n",
      "Epoch 7: Accuracy on Adv Set Only0.44640\n",
      "Epoch 8: Accuracy on Adv Set Only0.44800\n",
      "Epoch 9: Accuracy on Adv Set Only0.47160\n",
      "Epoch 10: Accuracy on Adv Set Only0.48680\n"
     ]
    }
   ],
   "source": [
    "train_model(model, 10, enable_defense=True)"
   ]
  },
  {
   "cell_type": "code",
   "execution_count": 30,
   "id": "4be6d0d1-1637-47da-8abb-fd49babd5027",
   "metadata": {},
   "outputs": [
    {
     "name": "stdout",
     "output_type": "stream",
     "text": [
      "label is 0 (airplane)\n"
     ]
    },
    {
     "data": {
      "image/png": "[encoded data removed]",
      "text/plain": [
       "<Figure size 600x600 with 1 Axes>"
      ]
     },
     "metadata": {},
     "output_type": "display_data"
    },
    {
     "data": {
      "image/png": "[encoded data removed]",
      "text/plain": [
       "<Figure size 600x600 with 2 Axes>"
      ]
     },
     "metadata": {},
     "output_type": "display_data"
    }
   ],
   "source": [
    "# Define Integrated Gradients \n",
    "ig = IntegratedGradients(model)\n",
    "\n",
    "# Select Image to Demonstrate Saliency Map for\n",
    "sample_idx = 10\n",
    "sample_img = test_loader.dataset[sample_idx][0]\n",
    "sample_img_label = test_loader.dataset[sample_idx][1]\n",
    "\n",
    "unnormalize = transforms.Normalize((-mean[0] / std[0], -mean[1] / std[1], -mean[2] / std[2]),\n",
    "                                   (1.0 / std[0], 1.0 / std[1], 1.0 / std[2]))\n",
    "unnormalized_img = unnormalize(sample_img)\n",
    "\n",
    "# Calculate attributions using Integrated Gradients\n",
    "attributions = ig.attribute(sample_img.to(device).unsqueeze(0), target=sample_img_label, n_steps = 200)\n",
    "\n",
    "# Visualize Saliency Map and Compare to Original Image\n",
    "print(f\"label is {sample_img_label} ({cifar_10_labels[sample_img_label]})\")\n",
    "_ = viz.visualize_image_attr(None, np.transpose(unnormalized_img.cpu().detach().numpy(), (1,2,0)),\n",
    "                      method=\"original_image\", title=\"Original Image\")\n",
    "default_cmap = LinearSegmentedColormap.from_list('custom blue',\n",
    "                                                 [(0, '#ffffff'),\n",
    "                                                  (0.25, '#0000ff'),\n",
    "                                                  (1, '#0000ff')], N=256)\n",
    "_ = viz.visualize_image_attr(np.transpose(attributions.squeeze().cpu().detach().numpy(), (1,2,0)),\n",
    "                             np.transpose(unnormalized_img.cpu().detach().numpy(), (1,2,0)),\n",
    "                             method='heat_map',\n",
    "                             cmap=default_cmap,\n",
    "                             show_colorbar=True,\n",
    "                             sign='positive',\n",
    "                             title='Integrated Gradients')"
   ]
  },
  {
   "cell_type": "markdown",
   "id": "0ab40caa-9ce9-45f5-ad5b-d519a22b226d",
   "metadata": {},
   "source": [
    "### Use eps = 0.001"
   ]
  },
  {
   "cell_type": "code",
   "execution_count": 36,
   "id": "5855b204-d7d9-41e2-8184-d60b280abe8b",
   "metadata": {},
   "outputs": [],
   "source": [
    "# Use Resnet 18 \n",
    "model = resnet18(weights=None)\n",
    "model.fc = nn.Linear(model.fc.in_features, 10)\n",
    "# Define loss function and optimizer\n",
    "criterion = nn.CrossEntropyLoss()\n",
    "optimizer = optim.SGD(model.parameters(), lr=0.1, momentum=0.9, weight_decay=0.0001)\n",
    "model = model.to(device)"
   ]
  },
  {
   "cell_type": "code",
   "execution_count": 37,
   "id": "c2680875-62f4-4b63-98ce-722f30ce8c01",
   "metadata": {},
   "outputs": [
    {
     "name": "stdout",
     "output_type": "stream",
     "text": [
      "Accuracy on adversarial test set: 9.93%\n"
     ]
    }
   ],
   "source": [
    "# Check Accuracy on Adversarial Images Only Before Adversarial Training \n",
    "model.eval()\n",
    "correct = 0\n",
    "total = 0\n",
    "\n",
    "for images, labels in test_loader:\n",
    "    images, labels = images.to(device), labels.to(device)\n",
    "    adv_images = pgd_attack(model, images, labels, eps=0.001, alpha=0.5, iters=5)\n",
    "    \n",
    "    outputs = model(adv_images)\n",
    "    predicted = torch.max(outputs, 1)[1]\n",
    "    total += labels.size(0)\n",
    "    correct += (predicted == labels).sum().item()\n",
    "\n",
    "accuracy = 100 * correct / total\n",
    "print(f'Accuracy on adversarial test set: {accuracy:.2f}%')"
   ]
  },
  {
   "cell_type": "code",
   "execution_count": 38,
   "id": "f3d18ed2-dce7-499e-86ad-a3b72f31fcae",
   "metadata": {},
   "outputs": [],
   "source": [
    "# Adversarial Training\n",
    "def train_model(model, num_epochs, enable_defense=True):\n",
    "    opt = optim.SGD(model.parameters(), lr=0.1, momentum=0.9, weight_decay=0.0001)\n",
    "    ce_loss = nn.CrossEntropyLoss()\n",
    "    tot_steps = 0\n",
    "\n",
    "    for epoch in range(1,num_epochs+1):\n",
    "        for batch_idx, (x_batch, y_batch) in enumerate(train_loader):\n",
    "            if enable_defense:\n",
    "                model.eval()   # Switch to eval mode while generating attack\n",
    "                x_batch, y_batch = x_batch.to(device), y_batch.to(device)\n",
    "                adv_x_batch = pgd_attack(model, x_batch, y_batch, eps=0.001, alpha=0.5, iters=5)\n",
    "                adv_x_batch = adv_x_batch.to(device)\n",
    "                # include adv image for training\n",
    "                model.train()\n",
    "                out = model(adv_x_batch)\n",
    "                batch_loss = ce_loss(out, y_batch)\n",
    "                tot_steps += 1\n",
    "                opt.zero_grad()\n",
    "                batch_loss.backward()\n",
    "                opt.step()\n",
    "                # include original image for training\n",
    "                model.train()\n",
    "                out = model(x_batch)\n",
    "                batch_loss = ce_loss(out, y_batch)\n",
    "                tot_steps += 1\n",
    "                opt.zero_grad()\n",
    "                batch_loss.backward()\n",
    "                opt.step()\n",
    "                \n",
    "        #Check Accuracy on Adversarial Images Only After Adversarial Training \n",
    "        tot_test, tot_acc = 0.0, 0.0\n",
    "        for batch_idx, (x_batch, y_batch) in enumerate(test_loader):\n",
    "            x_batch, y_batch = x_batch.to(device), y_batch.to(device)\n",
    "            adv_x_batch = pgd_attack(model, x_batch, y_batch, eps=0.001, alpha=0.5, iters=5)\n",
    "            adv_x_batch = adv_x_batch.to(device)\n",
    "            out = model(adv_x_batch)\n",
    "            pred = torch.max(out, dim=1)[1]\n",
    "            acc = pred.eq(y_batch).sum().item()\n",
    "            tot_acc += acc\n",
    "            tot_test += x_batch.size()[0]\n",
    "        print('Epoch %d: Accuracy on Adv Set Only%.5lf' % (epoch, tot_acc/tot_test))"
   ]
  },
  {
   "cell_type": "code",
   "execution_count": 39,
   "id": "48a6ca47-7dc0-449e-88ad-1495b00c3ca3",
   "metadata": {},
   "outputs": [
    {
     "name": "stdout",
     "output_type": "stream",
     "text": [
      "Epoch 1: Accuracy on Adv Set Only0.40630\n",
      "Epoch 2: Accuracy on Adv Set Only0.51530\n",
      "Epoch 3: Accuracy on Adv Set Only0.55920\n",
      "Epoch 4: Accuracy on Adv Set Only0.59420\n",
      "Epoch 5: Accuracy on Adv Set Only0.59960\n",
      "Epoch 6: Accuracy on Adv Set Only0.61630\n",
      "Epoch 7: Accuracy on Adv Set Only0.63060\n",
      "Epoch 8: Accuracy on Adv Set Only0.64310\n",
      "Epoch 9: Accuracy on Adv Set Only0.63800\n",
      "Epoch 10: Accuracy on Adv Set Only0.63610\n"
     ]
    }
   ],
   "source": [
    "train_model(model, 10, enable_defense=True)"
   ]
  },
  {
   "cell_type": "code",
   "execution_count": 43,
   "id": "35c47f03-2cef-460f-9c8b-68f18d59347a",
   "metadata": {},
   "outputs": [
    {
     "name": "stdout",
     "output_type": "stream",
     "text": [
      "label is 1 (automobile)\n"
     ]
    },
    {
     "data": {
      "image/png": "[encoded data removed]",
      "text/plain": [
       "<Figure size 600x600 with 1 Axes>"
      ]
     },
     "metadata": {},
     "output_type": "display_data"
    },
    {
     "data": {
      "image/png": "[encoded data removed]",
      "text/plain": [
       "<Figure size 600x600 with 2 Axes>"
      ]
     },
     "metadata": {},
     "output_type": "display_data"
    }
   ],
   "source": [
    "# Define Integrated Gradients \n",
    "ig = IntegratedGradients(model)\n",
    "\n",
    "# Select Image to Demonstrate Saliency Map for\n",
    "sample_idx = 6\n",
    "sample_img = test_loader.dataset[sample_idx][0]\n",
    "sample_img_label = test_loader.dataset[sample_idx][1]\n",
    "\n",
    "unnormalize = transforms.Normalize((-mean[0] / std[0], -mean[1] / std[1], -mean[2] / std[2]),\n",
    "                                   (1.0 / std[0], 1.0 / std[1], 1.0 / std[2]))\n",
    "unnormalized_img = unnormalize(sample_img)\n",
    "\n",
    "# Calculate attributions using Integrated Gradients\n",
    "attributions = ig.attribute(sample_img.to(device).unsqueeze(0), target=sample_img_label, n_steps = 200)\n",
    "\n",
    "# Visualize Saliency Map and Compare to Original Image\n",
    "print(f\"label is {sample_img_label} ({cifar_10_labels[sample_img_label]})\")\n",
    "_ = viz.visualize_image_attr(None, np.transpose(unnormalized_img.cpu().detach().numpy(), (1,2,0)),\n",
    "                      method=\"original_image\", title=\"Original Image\")\n",
    "default_cmap = LinearSegmentedColormap.from_list('custom blue',\n",
    "                                                 [(0, '#ffffff'),\n",
    "                                                  (0.25, '#0000ff'),\n",
    "                                                  (1, '#0000ff')], N=256)\n",
    "_ = viz.visualize_image_attr(np.transpose(attributions.squeeze().cpu().detach().numpy(), (1,2,0)),\n",
    "                             np.transpose(unnormalized_img.cpu().detach().numpy(), (1,2,0)),\n",
    "                             method='heat_map',\n",
    "                             cmap=default_cmap,\n",
    "                             show_colorbar=True,\n",
    "                             sign='positive',\n",
    "                             title='Integrated Gradients')"
   ]
  },
  {
   "cell_type": "code",
   "execution_count": null,
   "id": "3198bc08-ef55-44bc-8c0a-0498c972cb69",
   "metadata": {},
   "outputs": [],
   "source": []
  }
 ],
 "metadata": {
  "kernelspec": {
   "display_name": "Python 3 (ipykernel)",
   "language": "python",
   "name": "python3"
  },
  "language_info": {
   "codemirror_mode": {
    "name": "ipython",
    "version": 3
   },
   "file_extension": ".py",
   "mimetype": "text/x-python",
   "name": "python",
   "nbconvert_exporter": "python",
   "pygments_lexer": "ipython3",
   "version": "3.8.17"
  }
 },
 "nbformat": 4,
 "nbformat_minor": 5
}
