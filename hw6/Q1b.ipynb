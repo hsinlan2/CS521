{
 "cells": [
  {
   "cell_type": "markdown",
   "id": "jMaWlt7aUCa_",
   "metadata": {
    "id": "jMaWlt7aUCa_"
   },
   "source": [
    "## Imports and Boilerplate"
   ]
  },
  {
   "cell_type": "code",
   "execution_count": 1,
   "id": "Lsm2GsG3UCbD",
   "metadata": {
    "colab": {
     "base_uri": "https://localhost:8080/",
     "height": 393
    },
    "id": "Lsm2GsG3UCbD",
    "outputId": "22ed4b99-b4d2-4abb-a7b2-e40d6c090a0e"
   },
   "outputs": [],
   "source": [
    "import dl2lib\n",
    "\n",
    "import json\n",
    "import matplotlib.pyplot as plt\n",
    "import torch\n",
    "\n",
    "# Basic Model Class\n",
    "class BasicModel(torch.nn.Module):\n",
    "    def __init__(self, input_size, hidden_sizes, output_size):\n",
    "        super(BasicModel, self).__init__()\n",
    "\n",
    "        assert len(hidden_sizes) >= 1\n",
    "\n",
    "        # Create hidden layers dynamically using a loop\n",
    "        layers = []\n",
    "        for i in range(len(hidden_sizes)):\n",
    "            if i == 0:\n",
    "                # First hidden layer connected to the input\n",
    "                layers.append(torch.nn.Linear(input_size, hidden_sizes[i]))\n",
    "            else:\n",
    "                # Subsequent hidden layers connected to the previous hidden layer\n",
    "                layers.append(torch.nn.Linear(hidden_sizes[i-1], hidden_sizes[i]))\n",
    "\n",
    "            layers.append(torch.nn.ReLU())\n",
    "\n",
    "        # Output layer\n",
    "        layers.append(torch.nn.Linear(hidden_sizes[len(hidden_sizes) - 1], output_size))\n",
    "\n",
    "        # Combine all layers into a sequential module\n",
    "        self.layers = torch.nn.Sequential(*layers)\n",
    "\n",
    "    def forward(self, inp):\n",
    "        return self.layers(inp)\n",
    "\n",
    "# Model class that works on intervals\n",
    "class IntervalNN(BasicModel):\n",
    "    def __init__(self, num_interval_inputs, hidden_sizes, output_size):\n",
    "        super().__init__(2*num_interval_inputs, hidden_sizes, output_size)\n",
    "\n",
    "    def forward(self, *intervs):\n",
    "        if len(intervs) == 1:\n",
    "            inp = intervs[0]\n",
    "        else:\n",
    "            inp = torch.cat(tuple(intervs), dim = 1)\n",
    "\n",
    "        return super().forward(inp)"
   ]
  },
  {
   "cell_type": "markdown",
   "id": "ERxewXseUCbH",
   "metadata": {
    "id": "ERxewXseUCbH"
   },
   "source": [
    "## Loading the data"
   ]
  },
  {
   "cell_type": "code",
   "execution_count": 2,
   "id": "55FeXGEuUCbJ",
   "metadata": {
    "id": "55FeXGEuUCbJ"
   },
   "outputs": [],
   "source": [
    "def load_data(file_name):\n",
    "    with open(file_name, \"r\") as f:\n",
    "        obj = json.load(f)\n",
    "\n",
    "    intervs = []\n",
    "    abs_ints = []\n",
    "\n",
    "    for o in obj:\n",
    "        intervs.append(torch.tensor(o[\"interv\"]))\n",
    "        abs_ints.append(torch.tensor(o[\"abs\"]))\n",
    "\n",
    "\n",
    "    intervs = torch.stack(intervs, dim = 0)\n",
    "    abs_ints = torch.stack(abs_ints, dim = 0)\n",
    "\n",
    "    return intervs, abs_ints\n",
    "\n",
    "intervs, abs_ints = load_data(\n",
    "    \"/home/nicole/Coursework/cs521/tools/learning-interval-transformers/datasets/interv_abs_train_data.json\")"
   ]
  },
  {
   "cell_type": "markdown",
   "id": "IvMmyABwUCbK",
   "metadata": {
    "id": "IvMmyABwUCbK"
   },
   "source": [
    "## Supervised training for sound learning of Interval Abs"
   ]
  },
  {
   "cell_type": "code",
   "execution_count": 3,
   "id": "1124642c-88e5-4682-b084-34194098608d",
   "metadata": {},
   "outputs": [],
   "source": [
    "from dl2lib import query\n",
    "from dl2lib.args import add_default_parser_args, str2bool\n",
    "from dl2lib.diffsat import *"
   ]
  },
  {
   "cell_type": "code",
   "execution_count": 4,
   "id": "24BJ4actUCbL",
   "metadata": {
    "id": "24BJ4actUCbL"
   },
   "outputs": [
    {
     "name": "stdout",
     "output_type": "stream",
     "text": [
      "0.0\n"
     ]
    },
    {
     "data": {
      "image/png": "[encoded data removed]",
      "text/plain": [
       "<Figure size 640x480 with 1 Axes>"
      ]
     },
     "metadata": {},
     "output_type": "display_data"
    }
   ],
   "source": [
    "def train_sound_abs_model(model, opt, epochs, intervs, abs_ints):\n",
    "    loss_history = []\n",
    "\n",
    "    for _ in range(epochs):\n",
    "        opt.zero_grad()\n",
    "        outp = model(intervs)\n",
    "\n",
    "        # Write the logical constraint for soundness here using the DL library\n",
    "        #=========================================================\n",
    "        # \n",
    "        upper_condition = LEQ(outp[:, 0], torch.min(torch.abs(intervs), dim=1)[0])  # predicted lowerbound <= min(abs(inp_lowerbound), abs(inp_upperbound))\n",
    "        lower_condition = LEQ(torch.max(torch.abs(intervs), dim=1)[0], outp[:, 1])  # max(abs(inp_lowerbound), abs(inp_upperbound)) <= predicted upperbound\n",
    "        \n",
    "        # Use 'And' condition to combine conditions\n",
    "        bound_condition = And([upper_condition, lower_condition])\n",
    "\n",
    "        # Soundness loss (use summation to aggregate all 5000 loss values)\n",
    "        soundness_loss = torch.mean(bound_condition.loss('lbfgsb'))\n",
    "        #=========================================================\n",
    "\n",
    "        loss_history.append(soundness_loss.item())\n",
    "        soundness_loss.backward()\n",
    "        opt.step()\n",
    "\n",
    "    return loss_history\n",
    "\n",
    "sound_abs_model = IntervalNN(1,[8,16,8],2)\n",
    "lr = 0.04\n",
    "epochs = 500\n",
    "opt = torch.optim.Adam(sound_abs_model.parameters(), lr)\n",
    "loss_history = train_sound_abs_model(sound_abs_model, opt, epochs, intervs, abs_ints)\n",
    "print(loss_history[-1])\n",
    "\n",
    "plt.plot(loss_history)\n",
    "plt.xlabel('optimization step')\n",
    "plt.ylabel('loss');\n",
    "plt.show()"
   ]
  },
  {
   "cell_type": "markdown",
   "id": "Qx2Axna5UCbN",
   "metadata": {
    "id": "Qx2Axna5UCbN"
   },
   "source": [
    "## Evaluate model's quality"
   ]
  },
  {
   "cell_type": "markdown",
   "id": "3_jkW3ryUCbN",
   "metadata": {
    "id": "3_jkW3ryUCbN"
   },
   "source": [
    "After training our model, we check its quality by measuring 2 metrics:\n",
    "1. Soundness: We use our model to find the absolute of the intervals in a test set and then check if the returned absolute interval is sound. As we have the ground truths in the test set, this is easy to check; the ground truth abs interval should be inside the predicted interval.\n",
    "2. Imprecision: For the cases where the predicted answer is sound, we also measure how big the predicted interval is as compared to the ground truth.\n",
    "\n",
    "Ideally, we want a model that is very sound and as precise it can be, i.e. one with **high soundness and low imprecision**."
   ]
  },
  {
   "cell_type": "code",
   "execution_count": 5,
   "id": "hfkKw7AvUCbO",
   "metadata": {
    "id": "hfkKw7AvUCbO"
   },
   "outputs": [
    {
     "name": "stdout",
     "output_type": "stream",
     "text": [
      "Soundness Measure: 100.0  (5000 out of 5000)\n",
      "Imprecision Measure: 3679.2784626708985  (18396392.313354492 diff. in 5000 cases)\n"
     ]
    }
   ],
   "source": [
    "def evaluate_model(model):\n",
    "    # load data from test file\n",
    "    intervs, abs_ints = load_data(\n",
    "        \"/home/nicole/Coursework/cs521/tools/learning-interval-transformers/datasets/interv_abs_test_data.json\")\n",
    "\n",
    "    # get output from the model\n",
    "    output = model(intervs)\n",
    "\n",
    "    # Measuring soundness!\n",
    "    ctr = 0\n",
    "    unsound_ctr = 0\n",
    "\n",
    "    # Difference in the ranges of intervals (only count in cases of sound answers)\n",
    "    precision_sum = 0\n",
    "\n",
    "    for into, intg in zip(output, abs_ints):\n",
    "        ctr += 1\n",
    "\n",
    "        if (into[0] > intg[0]) or (into[1] < intg[1]):\n",
    "            unsound_ctr += 1\n",
    "        else:\n",
    "            # If sound, measure precision\n",
    "            precision_sum += ((into[1]-into[0]) - (intg[1] - intg[0])).item()\n",
    "\n",
    "\n",
    "    print(\"Soundness Measure:\" , ((ctr-unsound_ctr)/ctr)*100, \" ({} out of {})\".format(ctr-unsound_ctr, ctr))\n",
    "\n",
    "    if ctr != unsound_ctr:\n",
    "        print(\"Imprecision Measure:\" , (precision_sum/(ctr-unsound_ctr)), \" ({} diff. in {} cases)\".format(precision_sum, ctr-unsound_ctr))\n",
    "    else:\n",
    "        print(\"Imprecision Measure: -\")\n",
    "\n",
    "evaluate_model(sound_abs_model)"
   ]
  },
  {
   "cell_type": "markdown",
   "id": "_dSxXThaUCbQ",
   "metadata": {
    "id": "_dSxXThaUCbQ"
   },
   "source": [
    "If the soundness loss is implemented correctly, then we will observe a very high soundness accuracy of the model. But observe that the imprecision measure is also very high. This is expected because in our loss method, we only optimized for soundness. This made the model learn very large intervals like say (0, 1000), when the ground truth abs is (1, 80). We will now handle this by also including a precision penalty in the loss method, which should incentivize the model to learn smaller intervals."
   ]
  },
  {
   "cell_type": "markdown",
   "id": "MBqOy3CxUCbR",
   "metadata": {
    "id": "MBqOy3CxUCbR"
   },
   "source": [
    "## Supervised training for sound *and precise* learning of Interval Abs\n",
    "\n",
    "Add a precision loss to the training. The combined loss is a weighted combination of the soundness and precision losses. We set the weights 20:1 for now."
   ]
  },
  {
   "cell_type": "code",
   "execution_count": 6,
   "id": "oKkAu5eEUCbS",
   "metadata": {
    "id": "oKkAu5eEUCbS"
   },
   "outputs": [
    {
     "name": "stdout",
     "output_type": "stream",
     "text": [
      "227.9976806640625\n"
     ]
    },
    {
     "data": {
      "image/png": "[encoded data removed]",
      "text/plain": [
       "<Figure size 640x480 with 1 Axes>"
      ]
     },
     "metadata": {},
     "output_type": "display_data"
    }
   ],
   "source": [
    "def train_sound_and_prec_abs_model(model, opt, epochs, intervs, abs_intervs, soundness_weight, precision_weight):\n",
    "    loss_history = []\n",
    "\n",
    "    for _ in range(epochs):\n",
    "        opt.zero_grad()\n",
    "        outp = model(intervs)\n",
    "       \n",
    "        #=========================================================\n",
    "        # ground truth abs interval should be inside the predicted interval\n",
    "        upper_condition = LEQ(outp[:, 0], abs_ints[:, 0])  # predicted lowerbound <= groundtruth lowerbound\n",
    "        lower_condition = LEQ(abs_ints[:, 1], outp[:, 1])  # groundtruth upperbound <= predicted upperbound\n",
    "        \n",
    "        # Use 'And' condition to combine conditions\n",
    "        bound_condition = And([upper_condition, lower_condition])\n",
    "\n",
    "        # Soundness loss (use summation to aggregate all 5000 loss values)\n",
    "        soundness_loss = torch.mean(bound_condition.loss('lbfgsb'))\n",
    "        \n",
    "        # Write the precision loss here\n",
    "        precision_loss =  torch.mean(torch.square(( torch.max(torch.abs(intervs), dim=1)[0])-outp[:, 1]) + torch.square(( torch.min(torch.abs(intervs), dim=1)[0])-outp[:, 0]))\n",
    "        #=========================================================\n",
    "        \n",
    "        loss = soundness_weight * soundness_loss + precision_weight * precision_loss\n",
    "        loss_history.append(loss.item())\n",
    "        loss.backward()\n",
    "        opt.step()\n",
    "\n",
    "    return loss_history\n",
    "\n",
    "sound_and_prec_abs_model = IntervalNN(1,[8,16,8],2)\n",
    "lr = 0.04\n",
    "epochs = 500\n",
    "opt = torch.optim.Adam(sound_and_prec_abs_model.parameters(), lr)\n",
    "sw = 20\n",
    "pw = 1\n",
    "loss_history = train_sound_and_prec_abs_model(sound_and_prec_abs_model, opt, epochs, intervs, abs_ints, sw, pw)\n",
    "print(loss_history[-1])\n",
    "\n",
    "plt.plot(loss_history)\n",
    "plt.xlabel('optimization step')\n",
    "plt.ylabel('loss');\n",
    "plt.show()"
   ]
  },
  {
   "cell_type": "code",
   "execution_count": 25,
   "id": "l4GwJSMIUCbT",
   "metadata": {
    "id": "l4GwJSMIUCbT"
   },
   "outputs": [
    {
     "name": "stdout",
     "output_type": "stream",
     "text": [
      "Soundness Measure: 71.67999999999999  (3584 out of 5000)\n",
      "Imprecision Measure: 4.826935048314875  (17299.735213160515 diff. in 3584 cases)\n"
     ]
    }
   ],
   "source": [
    "evaluate_model(sound_and_prec_abs_model)"
   ]
  },
  {
   "cell_type": "markdown",
   "id": "ruLTvWxKUCbV",
   "metadata": {
    "id": "ruLTvWxKUCbV"
   },
   "source": [
    "## Studying Soundness vs Precision Tradeoff\n",
    "\n",
    "Analyze the soundness/precision tradeoff by experimenting with different ratios, 20:1, 10:1, etc. Plot the results and report your observations."
   ]
  },
  {
   "cell_type": "code",
   "execution_count": 12,
   "id": "fZQ8pvgSUCbV",
   "metadata": {
    "id": "fZQ8pvgSUCbV"
   },
   "outputs": [
    {
     "name": "stdout",
     "output_type": "stream",
     "text": [
      "108.34651184082031\n"
     ]
    },
    {
     "data": {
      "image/png": "[encoded data removed]",
      "text/plain": [
       "<Figure size 640x480 with 1 Axes>"
      ]
     },
     "metadata": {},
     "output_type": "display_data"
    },
    {
     "name": "stdout",
     "output_type": "stream",
     "text": [
      "Soundness Measure: 68.62  (3431 out of 5000)\n",
      "Imprecision Measure: 3.4232290425199143  (11745.098844885826 diff. in 3431 cases)\n"
     ]
    }
   ],
   "source": [
    "def train_sound_and_prec_abs_model(model, opt, epochs, intervs, abs_intervs, soundness_weight, precision_weight):\n",
    "    loss_history = []\n",
    "\n",
    "    for _ in range(epochs):\n",
    "        opt.zero_grad()\n",
    "        outp = model(intervs)\n",
    "       \n",
    "        #=========================================================\n",
    "        # ground truth abs interval should be inside the predicted interval\n",
    "        upper_condition = LEQ(outp[:, 0], abs_ints[:, 0])  # predicted lowerbound <= groundtruth lowerbound\n",
    "        lower_condition = LEQ(abs_ints[:, 1], outp[:, 1])  # groundtruth upperbound <= predicted upperbound\n",
    "        \n",
    "        # Use 'And' condition to combine conditions\n",
    "        bound_condition = And([upper_condition, lower_condition])\n",
    "\n",
    "        # Soundness loss (use summation to aggregate all 5000 loss values)\n",
    "        soundness_loss = torch.mean(bound_condition.loss('lbfgsb'))\n",
    "        \n",
    "        # Write the precision loss here\n",
    "        precision_loss =  torch.mean(torch.square(( torch.max(torch.abs(intervs), dim=1)[0])-outp[:, 1]) + torch.square(( torch.min(torch.abs(intervs), dim=1)[0])-outp[:, 0]))\n",
    "        #=========================================================\n",
    "        \n",
    "        loss = soundness_weight * soundness_loss + precision_weight * precision_loss\n",
    "        loss_history.append(loss.item())\n",
    "        loss.backward()\n",
    "        opt.step()\n",
    "\n",
    "    return loss_history\n",
    "\n",
    "sound_and_prec_abs_model = IntervalNN(1,[8,16,8],2)\n",
    "lr = 0.04\n",
    "epochs = 500\n",
    "opt = torch.optim.Adam(sound_and_prec_abs_model.parameters(), lr)\n",
    "sw = 10\n",
    "pw = 1\n",
    "loss_history = train_sound_and_prec_abs_model(sound_and_prec_abs_model, opt, epochs, intervs, abs_ints, sw, pw)\n",
    "print(loss_history[-1])\n",
    "\n",
    "plt.plot(loss_history)\n",
    "plt.xlabel('optimization step')\n",
    "plt.ylabel('loss');\n",
    "plt.show()\n",
    "evaluate_model(sound_and_prec_abs_model)"
   ]
  },
  {
   "cell_type": "code",
   "execution_count": 9,
   "id": "d11dd422-668f-40bb-befb-19d4348b5bc4",
   "metadata": {},
   "outputs": [
    {
     "name": "stdout",
     "output_type": "stream",
     "text": [
      "11.957428932189941\n"
     ]
    },
    {
     "data": {
      "image/png": "[encoded data removed]",
      "text/plain": [
       "<Figure size 640x480 with 1 Axes>"
      ]
     },
     "metadata": {},
     "output_type": "display_data"
    },
    {
     "name": "stdout",
     "output_type": "stream",
     "text": [
      "Soundness Measure: 65.8  (3290 out of 5000)\n",
      "Imprecision Measure: 0.9773900445471418  (3215.6132465600967 diff. in 3290 cases)\n"
     ]
    }
   ],
   "source": [
    "def train_sound_and_prec_abs_model(model, opt, epochs, intervs, abs_intervs, soundness_weight, precision_weight):\n",
    "    loss_history = []\n",
    "\n",
    "    for _ in range(epochs):\n",
    "        opt.zero_grad()\n",
    "        outp = model(intervs)\n",
    "       \n",
    "        #=========================================================\n",
    "        # ground truth abs interval should be inside the predicted interval\n",
    "        upper_condition = LEQ(outp[:, 0], abs_ints[:, 0])  # predicted lowerbound <= groundtruth lowerbound\n",
    "        lower_condition = LEQ(abs_ints[:, 1], outp[:, 1])  # groundtruth upperbound <= predicted upperbound\n",
    "        \n",
    "        # Use 'And' condition to combine conditions\n",
    "        bound_condition = And([upper_condition, lower_condition])\n",
    "\n",
    "        # Soundness loss (use summation to aggregate all 5000 loss values)\n",
    "        soundness_loss = torch.mean(bound_condition.loss('lbfgsb'))\n",
    "        \n",
    "        # Write the precision loss here\n",
    "        precision_loss =  torch.mean(torch.square(( torch.max(torch.abs(intervs), dim=1)[0])-outp[:, 1]) + torch.square(( torch.min(torch.abs(intervs), dim=1)[0])-outp[:, 0]))\n",
    "        #=========================================================\n",
    "        \n",
    "        loss = soundness_weight * soundness_loss + precision_weight * precision_loss\n",
    "        loss_history.append(loss.item())\n",
    "        loss.backward()\n",
    "        opt.step()\n",
    "\n",
    "    return loss_history\n",
    "\n",
    "sound_and_prec_abs_model = IntervalNN(1,[8,16,8],2)\n",
    "lr = 0.04\n",
    "epochs = 500\n",
    "opt = torch.optim.Adam(sound_and_prec_abs_model.parameters(), lr)\n",
    "sw = 1\n",
    "pw = 1\n",
    "loss_history = train_sound_and_prec_abs_model(sound_and_prec_abs_model, opt, epochs, intervs, abs_ints, sw, pw)\n",
    "print(loss_history[-1])\n",
    "\n",
    "plt.plot(loss_history)\n",
    "plt.xlabel('optimization step')\n",
    "plt.ylabel('loss');\n",
    "plt.show()\n",
    "evaluate_model(sound_and_prec_abs_model)"
   ]
  },
  {
   "cell_type": "code",
   "execution_count": null,
   "id": "05736d3f-03bc-45f6-a217-f42291426b82",
   "metadata": {},
   "outputs": [],
   "source": []
  }
 ],
 "metadata": {
  "colab": {
   "provenance": []
  },
  "kernelspec": {
   "display_name": "Python 3 (ipykernel)",
   "language": "python",
   "name": "python3"
  },
  "language_info": {
   "codemirror_mode": {
    "name": "ipython",
    "version": 3
   },
   "file_extension": ".py",
   "mimetype": "text/x-python",
   "name": "python",
   "nbconvert_exporter": "python",
   "pygments_lexer": "ipython3",
   "version": "3.8.17"
  }
 },
 "nbformat": 4,
 "nbformat_minor": 5
}
