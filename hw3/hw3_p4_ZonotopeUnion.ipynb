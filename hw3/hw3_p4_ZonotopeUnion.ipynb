{
 "cells": [
  {
   "cell_type": "markdown",
   "id": "28a60b35",
   "metadata": {},
   "source": [
    "### Z3 Solver for Union of Z1 and Z2"
   ]
  },
  {
   "cell_type": "code",
   "execution_count": 1,
   "id": "dff136b9",
   "metadata": {},
   "outputs": [
    {
     "name": "stdout",
     "output_type": "stream",
     "text": [
      "sat\n"
     ]
    }
   ],
   "source": [
    "from z3 import *\n",
    "\n",
    "c0, c1, c2, c3, d0, d1, d2, d3 = Ints('c0 c1 c2 c3 d0 d1 d2 d3')\n",
    "\n",
    "# Define contraints\n",
    "constraint1 = c0 + c1 + c2 + c3 == 6\n",
    "constraint2 = c0 - c1 - c2 - c3 == -2\n",
    "constraint3 = d0 + d1 + d2 + d3 == 2\n",
    "constraint4 = d0 - d1 - d2 - d3 == -2\n",
    "\n",
    "# Add additional constraints on solution\n",
    "add_constr1 = c3 != 0\n",
    "add_constr2 = d1 != 0\n",
    "add_constr3 = d1 != 0\n",
    "add_constr4 = Or(c1 != 0, c2 != 0)\n",
    "add_constr5 = Or(c1 == 0, c2 == 0)\n",
    "add_constr6 = [c0 >= 0, c1 >= 0, c2 >= 0, c3 >= 0, d0 >= 0, d1 >= 0, d2 >= 0, d3 >= 0]\n",
    "\n",
    "# Initiate Z3 solver\n",
    "s = Solver()\n",
    "\n",
    "s.add(constraint1, constraint2, constraint3, constraint4, \n",
    "           add_constr1, add_constr2, add_constr3,\n",
    "           add_constr4, add_constr5,*add_constr6\n",
    ")\n",
    "\n",
    "\n",
    "print(s.check())"
   ]
  },
  {
   "cell_type": "code",
   "execution_count": 2,
   "id": "4037d684",
   "metadata": {
    "scrolled": true
   },
   "outputs": [
    {
     "name": "stdout",
     "output_type": "stream",
     "text": [
      "c0 = 2\n",
      "c1 = 1\n",
      "c2 = 0\n",
      "c3 = 3\n",
      "d0 = 0\n",
      "d1 = 1\n",
      "d2 = 1\n",
      "d3 = 0\n"
     ]
    }
   ],
   "source": [
    "model = s.model()\n",
    "print(f\"c0 = {model[c0]}\")\n",
    "print(f\"c1 = {model[c1]}\")\n",
    "print(f\"c2 = {model[c2]}\")\n",
    "print(f\"c3 = {model[c3]}\")\n",
    "print(f\"d0 = {model[d0]}\")\n",
    "print(f\"d1 = {model[d1]}\")\n",
    "print(f\"d2 = {model[d2]}\")\n",
    "print(f\"d3 = {model[d3]}\")"
   ]
  },
  {
   "cell_type": "markdown",
   "id": "0477afe4",
   "metadata": {},
   "source": [
    "## Calculating Vertices of Z1 and Z2 (to Define Constraints Above)"
   ]
  },
  {
   "cell_type": "code",
   "execution_count": 2,
   "id": "2933dfa4",
   "metadata": {},
   "outputs": [],
   "source": [
    "import numpy as np"
   ]
  },
  {
   "cell_type": "code",
   "execution_count": 3,
   "id": "79248ba3",
   "metadata": {},
   "outputs": [],
   "source": [
    "# Defining Functions of Z1 and Z2 to find extreme values \n",
    "def z1_x(eps1, eps2):\n",
    "    return 3+eps1+2*eps2\n",
    "def z1_y(eps1, eps2):\n",
    "    return eps1+eps2\n",
    "def z2_x(eps1, eps2):\n",
    "    return 1-2*eps1+eps2\n",
    "def z2_y(eps1, eps2):\n",
    "    return eps1+eps2"
   ]
  },
  {
   "cell_type": "code",
   "execution_count": 4,
   "id": "96a5c191",
   "metadata": {},
   "outputs": [
    {
     "name": "stdout",
     "output_type": "stream",
     "text": [
      "6\n",
      "0\n",
      "2\n",
      "4\n"
     ]
    }
   ],
   "source": [
    "print(z1_x(1, 1))\n",
    "print(z1_x(-1, -1))\n",
    "print(z1_x(1, -1))\n",
    "print(z1_x(-1, 1))"
   ]
  },
  {
   "cell_type": "code",
   "execution_count": 5,
   "id": "6b3b2d95",
   "metadata": {},
   "outputs": [
    {
     "name": "stdout",
     "output_type": "stream",
     "text": [
      "2\n",
      "-2\n",
      "0\n",
      "0\n"
     ]
    }
   ],
   "source": [
    "print(z1_y(1, 1))\n",
    "print(z1_y(-1, -1))\n",
    "print(z1_y(1, -1))\n",
    "print(z1_y(-1, 1))"
   ]
  },
  {
   "cell_type": "code",
   "execution_count": 6,
   "id": "1f352e1e",
   "metadata": {},
   "outputs": [
    {
     "name": "stdout",
     "output_type": "stream",
     "text": [
      "0\n",
      "2\n",
      "-2\n",
      "4\n"
     ]
    }
   ],
   "source": [
    "print(z2_x(1, 1))\n",
    "print(z2_x(-1, -1))\n",
    "print(z2_x(1, -1))\n",
    "print(z2_x(-1, 1))"
   ]
  },
  {
   "cell_type": "code",
   "execution_count": 7,
   "id": "6c4de1c2",
   "metadata": {},
   "outputs": [
    {
     "name": "stdout",
     "output_type": "stream",
     "text": [
      "2\n",
      "-2\n",
      "0\n",
      "0\n"
     ]
    }
   ],
   "source": [
    "print(z2_y(1, 1))\n",
    "print(z2_y(-1, -1))\n",
    "print(z2_y(1, -1))\n",
    "print(z2_y(-1, 1))"
   ]
  },
  {
   "cell_type": "code",
   "execution_count": null,
   "id": "70714a96",
   "metadata": {},
   "outputs": [],
   "source": []
  }
 ],
 "metadata": {
  "kernelspec": {
   "display_name": "Python 3",
   "language": "python",
   "name": "python3"
  },
  "language_info": {
   "codemirror_mode": {
    "name": "ipython",
    "version": 3
   },
   "file_extension": ".py",
   "mimetype": "text/x-python",
   "name": "python",
   "nbconvert_exporter": "python",
   "pygments_lexer": "ipython3",
   "version": "3.6.15"
  }
 },
 "nbformat": 4,
 "nbformat_minor": 5
}
