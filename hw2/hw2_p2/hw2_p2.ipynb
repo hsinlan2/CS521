{
 "cells": [
  {
   "cell_type": "code",
   "execution_count": 16,
   "id": "667d0ec5-0c88-425b-a43d-cb975cd6ab5b",
   "metadata": {},
   "outputs": [],
   "source": [
    "import torch\n",
    "import torch.nn as nn\n",
    "import torch.optim as optim\n",
    "import torch.nn.functional as F\n",
    "import numpy as np\n",
    "import time\n",
    "\n",
    "from torchvision import datasets, transforms\n",
    "from tensorboardX import SummaryWriter\n",
    "import matplotlib.pyplot as plt"
   ]
  },
  {
   "cell_type": "code",
   "execution_count": 2,
   "id": "dfbb4d95-7742-4354-b576-28b803b98c68",
   "metadata": {},
   "outputs": [],
   "source": [
    "use_cuda = False\n",
    "device = torch.device(\"cuda\" if use_cuda else \"cpu\")\n",
    "batch_size = 64"
   ]
  },
  {
   "cell_type": "code",
   "execution_count": 3,
   "id": "bd21ecdd-bb9c-4b35-975c-f5f71afdee04",
   "metadata": {},
   "outputs": [
    {
     "data": {
      "text/plain": [
       "<torch._C.Generator at 0x7f13e2520df0>"
      ]
     },
     "execution_count": 3,
     "metadata": {},
     "output_type": "execute_result"
    }
   ],
   "source": [
    "np.random.seed(42)\n",
    "torch.manual_seed(42)"
   ]
  },
  {
   "cell_type": "code",
   "execution_count": 4,
   "id": "6fd0a399-3926-482e-b914-f177785a3e5f",
   "metadata": {},
   "outputs": [],
   "source": [
    "## Dataloaders\n",
    "train_dataset = datasets.MNIST('mnist_data/', train=True, download=True, transform=transforms.Compose(\n",
    "    [transforms.ToTensor()]\n",
    "))\n",
    "test_dataset = datasets.MNIST('mnist_data/', train=False, download=True, transform=transforms.Compose(\n",
    "    [transforms.ToTensor()]\n",
    "))\n",
    "\n",
    "train_loader = torch.utils.data.DataLoader(train_dataset, batch_size=batch_size, shuffle=True)\n",
    "test_loader = torch.utils.data.DataLoader(test_dataset, batch_size=batch_size, shuffle=False)"
   ]
  },
  {
   "cell_type": "code",
   "execution_count": 5,
   "id": "d50d16d2-ca09-4175-b19e-311c42d86027",
   "metadata": {},
   "outputs": [],
   "source": [
    "## Simple NN. You can change this if you want.\n",
    "class Net(nn.Module):\n",
    "    def __init__(self):\n",
    "        super(Net, self).__init__()\n",
    "        self.fc = nn.Linear(28*28, 200)\n",
    "        self.fc2 = nn.Linear(200,10)\n",
    "\n",
    "    def forward(self, x):\n",
    "        x = x.view((-1, 28*28))\n",
    "        x = F.relu(self.fc(x))\n",
    "        x = self.fc2(x)\n",
    "        return x\n",
    "\n",
    "class Normalize(nn.Module):\n",
    "    def forward(self, x):\n",
    "        return (x - 0.1307)/0.3081"
   ]
  },
  {
   "cell_type": "code",
   "execution_count": 6,
   "id": "d501e504-c61e-4476-9ed2-59af8113aca3",
   "metadata": {},
   "outputs": [
    {
     "data": {
      "text/plain": [
       "Sequential(\n",
       "  (0): Normalize()\n",
       "  (1): Net(\n",
       "    (fc): Linear(in_features=784, out_features=200, bias=True)\n",
       "    (fc2): Linear(in_features=200, out_features=10, bias=True)\n",
       "  )\n",
       ")"
      ]
     },
     "execution_count": 6,
     "metadata": {},
     "output_type": "execute_result"
    }
   ],
   "source": [
    "# Add the data normalization as a first \"layer\" to the network\n",
    "# this allows us to search for adverserial examples to the real image, rather than\n",
    "# to the normalized image\n",
    "model = nn.Sequential(Normalize(), Net())\n",
    "model = model.to(device)\n",
    "model.train()"
   ]
  },
  {
   "cell_type": "markdown",
   "id": "39a68500-1e75-4da0-9b62-cae56c1bb694",
   "metadata": {},
   "source": [
    "### Implement the Attacks"
   ]
  },
  {
   "cell_type": "code",
   "execution_count": 7,
   "id": "571a3645-b63b-4632-a833-d0141402d44d",
   "metadata": {},
   "outputs": [],
   "source": [
    "# The last argument 'targeted' can be used to toggle between a targeted and untargeted attack.\n",
    "def fgsm(model, x, target, eps, targeted=True):\n",
    "    x_copy = x.clone().detach() \n",
    "    x_copy.requires_grad_()\n",
    "    \n",
    "    L = nn.CrossEntropyLoss()\n",
    "    loss = L(model(x_copy), torch.tensor([target], dtype=torch.long))\n",
    "    model.zero_grad()\n",
    "    loss.backward()\n",
    "\n",
    "    x_grad = x_copy.grad\n",
    "    if targeted == True:\n",
    "        x_prime = x_copy - eps * x_grad.detach().sign()\n",
    "    else:\n",
    "        x_prime = x_copy + eps * x_grad.detach().sign()\n",
    "        \n",
    "    x_clipped=torch.max(torch.min(x_prime, x + eps), x - eps)                # Clamp to between x-eps and x+eps\n",
    "    x_adv=torch.max(torch.min(x_clipped, torch.tensor(1)), torch.tensor(0))  # Clamp back to image domain         \n",
    "    return x_adv\n",
    "    "
   ]
  },
  {
   "cell_type": "code",
   "execution_count": 8,
   "id": "61cba759-6b06-47d6-8187-15e91ee51134",
   "metadata": {},
   "outputs": [],
   "source": [
    "original = torch.unsqueeze(test_dataset[0][0], dim=0)"
   ]
  },
  {
   "cell_type": "code",
   "execution_count": 9,
   "id": "1766d8bc-07dd-489f-b680-1ed14f8226a1",
   "metadata": {},
   "outputs": [],
   "source": [
    "def pgd_untargeted(model, x, labels, k, eps, eps_step):\n",
    "    # Start from a random perturbation in the eps ball around a sample\n",
    "    x_ptb = x + eps*torch.rand(x.size())\n",
    "    x_clipped=torch.max(torch.min(x_ptb, x+eps), x-eps)\n",
    "    x_iter=torch.max(torch.min(x_clipped, torch.tensor(1)), torch.tensor(0))\n",
    "    \n",
    "    #Project and Do FGSM\n",
    "    for i in range(k):\n",
    "        x_prime = fgsm(model, x_iter, labels, eps_step, targeted=False)\n",
    "        x_projected = torch.max(torch.min(x_prime, x + eps), x - eps)        \n",
    "        x_doubleprime = torch.max(torch.min(x_projected, torch.tensor(1)), torch.tensor(0))  # Clamp back to image domain\n",
    "        x_iter = x_doubleprime\n",
    "    return x_doubleprime\n",
    "    "
   ]
  },
  {
   "cell_type": "markdown",
   "id": "5cc78737-f7a4-4238-b6c3-96f066219d7a",
   "metadata": {},
   "source": [
    "### Problem 2a. "
   ]
  },
  {
   "cell_type": "code",
   "execution_count": 10,
   "id": "97faf981-6144-437a-887d-59d0ef41e8d0",
   "metadata": {},
   "outputs": [],
   "source": [
    "# Implement untargeted FGSM attack on Model.\n",
    "# Step 1. Train the model on the unperturbed training set\n",
    "# Step 2. Test the model on unperturbed testing set \n",
    "# Step 3. Test the model on FGSM attacked testing set"
   ]
  },
  {
   "cell_type": "code",
   "execution_count": 11,
   "id": "1504369f-9645-4b6f-a17a-3ad60a925f42",
   "metadata": {},
   "outputs": [],
   "source": [
    "# Step 1. Train the model on the unperturbed training set\n",
    "learning_rate = 0.0001\n",
    "opt = optim.Adam(params=model.parameters(), lr=learning_rate)\n",
    "ce_loss = torch.nn.CrossEntropyLoss()\n",
    "for epoch in range(1, 5):\n",
    "    for batch_idx, (x_batch, y_batch) in enumerate(train_loader):\n",
    "        x_batch, y_batch = x_batch.to(device), y_batch.to(device)             \n",
    "        model.train()\n",
    "        opt.zero_grad()\n",
    "        out = model(x_batch)\n",
    "        batch_loss = ce_loss(out, y_batch)\n",
    "        batch_loss.backward()\n",
    "        opt.step()"
   ]
  },
  {
   "cell_type": "code",
   "execution_count": 12,
   "id": "43bffb93-ce8e-40ff-8a63-609bc04357d3",
   "metadata": {},
   "outputs": [
    {
     "name": "stdout",
     "output_type": "stream",
     "text": [
      "Accuracy: 0.9537\n"
     ]
    }
   ],
   "source": [
    "# Step 2. Test the model on unperturbed testing set \n",
    "model.eval()\n",
    "tot_test, tot_acc = 0.0, 0.0\n",
    "for batch_idx, (x_batch, y_batch) in enumerate(test_loader):\n",
    "    x_batch, y_batch = x_batch.to(device), y_batch.to(device)\n",
    "    out = model(x_batch)\n",
    "    pred = torch.max(out, dim=1)[1]\n",
    "    acc = pred.eq(y_batch).sum().item()\n",
    "    tot_acc += acc\n",
    "    tot_test += x_batch.size()[0]\n",
    "    \n",
    "print(f\"Accuracy: {tot_acc/tot_test}\")"
   ]
  },
  {
   "cell_type": "code",
   "execution_count": 21,
   "id": "281e0cbf-2bd2-453c-94ae-5b4f286f0257",
   "metadata": {},
   "outputs": [],
   "source": [
    "# Function for generating adv_x_batch\n",
    "def gen_adv_x_batch(x_batch, y_batch, type):\n",
    "    list_adv_x_batch=[]\n",
    "    for i in range(len(x_batch)):\n",
    "        if type == 'pgd':\n",
    "            adv = pgd_untargeted(model, x_batch[[i],:,:,:], labels=y_batch[i], k=5, eps=0.1,\n",
    "                  eps_step=0.05)\n",
    "        if type == 'fgsm':\n",
    "            adv = fgsm(model, x_batch[[i],:,:,:], target=y_batch[i], eps=0.1, targeted=False)     \n",
    "        list_adv_x_batch.append(adv)\n",
    "    adv_x_batch=torch.cat(list_adv_x_batch, 0)\n",
    "    return adv_x_batch"
   ]
  },
  {
   "cell_type": "code",
   "execution_count": 22,
   "id": "49eeeafc-5d17-4135-a3e9-2eafd50408af",
   "metadata": {},
   "outputs": [
    {
     "name": "stdout",
     "output_type": "stream",
     "text": [
      "Accuracy: 0.2526\n"
     ]
    }
   ],
   "source": [
    "# Step 3. Test the model on FGSM attacked testing set\n",
    "model.eval()\n",
    "tot_test, tot_acc = 0.0, 0.0\n",
    "for batch_idx, (x_batch, y_batch) in enumerate(test_loader):\n",
    "    x_batch, y_batch = x_batch.to(device), y_batch.to(device)\n",
    "    adv_x_batch = gen_adv_x_batch(x_batch, y_batch, 'fgsm')\n",
    "    adv_x_batch = adv_x_batch.to(device)\n",
    "    \n",
    "    out = model(adv_x_batch)\n",
    "    pred = torch.max(out, dim=1)[1]\n",
    "    acc = pred.eq(y_batch).sum().item()\n",
    "    tot_acc += acc\n",
    "    tot_test += adv_x_batch.size()[0]\n",
    "    \n",
    "print(f\"Accuracy: {tot_acc/tot_test}\")"
   ]
  },
  {
   "cell_type": "code",
   "execution_count": 28,
   "id": "44d8da62-c967-4a5a-b2cd-ced98e589bd3",
   "metadata": {},
   "outputs": [
    {
     "data": {
      "text/plain": [
       "Text(0.5, 1.0, 'perturbed')"
      ]
     },
     "execution_count": 28,
     "metadata": {},
     "output_type": "execute_result"
    },
    {
     "data": {
      "image/png": "[encoded data removed]",
      "text/plain": [
       "<Figure size 640x480 with 2 Axes>"
      ]
     },
     "metadata": {},
     "output_type": "display_data"
    }
   ],
   "source": [
    "fig, (ax1, ax2) = plt.subplots(1, 2)\n",
    "ax1.imshow(x_batch[12,0,:,:].detach().numpy(), cmap='gray')\n",
    "ax2.imshow(adv_x_batch[12,0,:,:].detach().numpy(), cmap='gray')\n",
    "ax1.set_title('original')\n",
    "ax2.set_title('perturbed')"
   ]
  },
  {
   "cell_type": "markdown",
   "id": "2755337a-8c14-4fe9-b611-6d9390e74fa0",
   "metadata": {},
   "source": [
    "### Problem 2b. "
   ]
  },
  {
   "cell_type": "code",
   "execution_count": 18,
   "id": "4cccda79-b52f-4c3f-9cf2-8c206b409ef5",
   "metadata": {},
   "outputs": [],
   "source": [
    "# Implement untargeted PGD attack on Model.\n",
    "# Step 1. Train the model on the unperturbed training set (already done in 2a)\n",
    "# Step 2. Test the model on unperturbed testing set (already done in 2a)\n",
    "# Step 3. Test the model on PGD attacked testing set"
   ]
  },
  {
   "cell_type": "code",
   "execution_count": 19,
   "id": "d627f9fe-e8a2-49c2-9da6-1e1efeae0d9b",
   "metadata": {},
   "outputs": [
    {
     "name": "stdout",
     "output_type": "stream",
     "text": [
      "Accuracy: 0.187\n"
     ]
    }
   ],
   "source": [
    "# Step 3. Test the model on PGD attacked testing set\n",
    "model.eval()\n",
    "tot_test, tot_acc = 0.0, 0.0\n",
    "for batch_idx, (x_batch, y_batch) in enumerate(test_loader):\n",
    "    x_batch, y_batch = x_batch.to(device), y_batch.to(device)\n",
    "    adv_x_batch = gen_adv_x_batch(x_batch, y_batch, 'pgd')\n",
    "    adv_x_batch = adv_x_batch.to(device)\n",
    "    \n",
    "    out = model(adv_x_batch)\n",
    "    pred = torch.max(out, dim=1)[1]\n",
    "    acc = pred.eq(y_batch).sum().item()\n",
    "    tot_acc += acc\n",
    "    tot_test += adv_x_batch.size()[0]\n",
    "    \n",
    "print(f\"Accuracy: {tot_acc/tot_test}\")"
   ]
  },
  {
   "cell_type": "code",
   "execution_count": 27,
   "id": "42e30551-a0a3-4a23-8b81-93d6759668fa",
   "metadata": {},
   "outputs": [
    {
     "data": {
      "text/plain": [
       "Text(0.5, 1.0, 'perturbed')"
      ]
     },
     "execution_count": 27,
     "metadata": {},
     "output_type": "execute_result"
    },
    {
     "data": {
      "image/png": "[encoded data removed]",
      "text/plain": [
       "<Figure size 640x480 with 2 Axes>"
      ]
     },
     "metadata": {},
     "output_type": "display_data"
    }
   ],
   "source": [
    "fig, (ax1, ax2) = plt.subplots(1, 2)\n",
    "ax1.imshow(x_batch[12,0,:,:].detach().numpy(), cmap='gray')\n",
    "ax2.imshow(adv_x_batch[12,0,:,:].detach().numpy(), cmap='gray')\n",
    "ax1.set_title('original')\n",
    "ax2.set_title('perturbed')"
   ]
  },
  {
   "cell_type": "markdown",
   "id": "49738918-ebdd-49b7-b0fb-252fadd011a8",
   "metadata": {},
   "source": [
    "### Implement Adversarial Training"
   ]
  },
  {
   "cell_type": "code",
   "execution_count": 31,
   "id": "53651d8d-95f0-45f0-924a-029428e07362",
   "metadata": {},
   "outputs": [],
   "source": [
    "def train_model(model, num_epochs, enable_defense=True):\n",
    "    learning_rate = 0.0001\n",
    "    opt = optim.Adam(params=model.parameters(), lr=learning_rate)\n",
    "    ce_loss = torch.nn.CrossEntropyLoss()\n",
    "    tot_steps = 0\n",
    "\n",
    "    for epoch in range(1,num_epochs+1):\n",
    "        t1 = time.time()\n",
    "        for batch_idx, (x_batch, y_batch) in enumerate(train_loader):\n",
    "            if enable_defense:\n",
    "                model.eval()   # Switch to eval mode while generating attack\n",
    "                x_batch, y_batch = x_batch.to(device), y_batch.to(device)\n",
    "                adv_x_batch = gen_adv_x_batch(x_batch, y_batch, 'pgd')\n",
    "                adv_x_batch = adv_x_batch.to(device)\n",
    "\n",
    "                model.train()\n",
    "                out = model(adv_x_batch)\n",
    "                batch_loss = ce_loss(out, y_batch)\n",
    "                tot_steps += 1\n",
    "                opt.zero_grad()\n",
    "                batch_loss.backward()\n",
    "                opt.step()\n",
    "\n",
    "        tot_test, tot_acc = 0.0, 0.0\n",
    "        for batch_idx, (x_batch, y_batch) in enumerate(test_loader):\n",
    "            x_batch, y_batch = x_batch.to(device), y_batch.to(device)\n",
    "            adv_x_batch = gen_adv_x_batch(x_batch, y_batch, 'pgd')\n",
    "            adv_x_batch = adv_x_batch.to(device)\n",
    "            out = model(adv_x_batch)\n",
    "            pred = torch.max(out, dim=1)[1]\n",
    "            acc = pred.eq(y_batch).sum().item()\n",
    "            tot_acc += acc\n",
    "            tot_test += x_batch.size()[0]\n",
    "        t2 = time.time()\n",
    "\n",
    "        print('Epoch %d: Accuracy %.5lf [%.2lf seconds]' % (epoch, tot_acc/tot_test, t2-t1))"
   ]
  },
  {
   "cell_type": "code",
   "execution_count": 32,
   "id": "d9fcc3ff-7d89-43a0-bed0-811a9f0d1335",
   "metadata": {},
   "outputs": [
    {
     "name": "stdout",
     "output_type": "stream",
     "text": [
      "Epoch 1: Accuracy 0.76300 [345.32 seconds]\n",
      "Epoch 2: Accuracy 0.79820 [342.94 seconds]\n",
      "Epoch 3: Accuracy 0.81480 [341.11 seconds]\n",
      "Epoch 4: Accuracy 0.83060 [340.38 seconds]\n",
      "Epoch 5: Accuracy 0.83700 [340.76 seconds]\n"
     ]
    }
   ],
   "source": [
    "train_model(model, 5, enable_defense=True)"
   ]
  },
  {
   "cell_type": "markdown",
   "id": "20cddc39-a149-43b8-8c1b-25cea124926b",
   "metadata": {},
   "source": [
    "### Adversarially Trained Model Performance PGD vs Original"
   ]
  },
  {
   "cell_type": "code",
   "execution_count": 39,
   "id": "8cce48ac-2691-4293-bbf1-f7f390ab48f7",
   "metadata": {},
   "outputs": [
    {
     "name": "stdout",
     "output_type": "stream",
     "text": [
      "Adv Accuracy: 0.8371\n"
     ]
    }
   ],
   "source": [
    "# Model performance on PGD Adv Examples \n",
    "model.eval()\n",
    "tot_test, tot_acc = 0.0, 0.0\n",
    "for batch_idx, (x_batch, y_batch) in enumerate(test_loader):\n",
    "    x_batch, y_batch = x_batch.to(device), y_batch.to(device)\n",
    "    adv_x_batch = gen_adv_x_batch(x_batch, y_batch, 'pgd')\n",
    "    adv_x_batch = adv_x_batch.to(device)\n",
    "    \n",
    "    out = model(adv_x_batch)\n",
    "    pred = torch.max(out, dim=1)[1]\n",
    "    acc = pred.eq(y_batch).sum().item()\n",
    "    tot_acc += acc\n",
    "    tot_test += adv_x_batch.size()[0]\n",
    "    \n",
    "print(f\"Adv Accuracy: {tot_acc/tot_test}\")"
   ]
  },
  {
   "cell_type": "code",
   "execution_count": 37,
   "id": "337043fc-4195-48b1-81bb-acae28f37246",
   "metadata": {},
   "outputs": [
    {
     "name": "stdout",
     "output_type": "stream",
     "text": [
      "Accuracy: 0.9669\n"
     ]
    }
   ],
   "source": [
    "# Model performance on Original Examples\n",
    "model.eval()\n",
    "tot_test, tot_acc = 0.0, 0.0\n",
    "for batch_idx, (x_batch, y_batch) in enumerate(test_loader):\n",
    "    x_batch, y_batch = x_batch.to(device), y_batch.to(device)\n",
    "    out = model(x_batch)\n",
    "    pred = torch.max(out, dim=1)[1]\n",
    "    acc = pred.eq(y_batch).sum().item()\n",
    "    tot_acc += acc\n",
    "    tot_test += x_batch.size()[0]\n",
    "    \n",
    "print(f\"Accuracy: {tot_acc/tot_test}\")"
   ]
  },
  {
   "cell_type": "markdown",
   "id": "e23dd0a2-8b49-4afa-b81c-84fbab0b9e9a",
   "metadata": {},
   "source": [
    "### Extra Credit: PGD Adversarial Trained Model with FGSM Attacks"
   ]
  },
  {
   "cell_type": "code",
   "execution_count": 38,
   "id": "c041bae8-6ed0-4cef-8ab4-7c39a8cd0512",
   "metadata": {},
   "outputs": [
    {
     "name": "stdout",
     "output_type": "stream",
     "text": [
      "Adv Accuracy: 0.8501\n"
     ]
    }
   ],
   "source": [
    "# PGD Trained Model performance on FGSM Adv Examples \n",
    "model.eval()\n",
    "tot_test, tot_acc = 0.0, 0.0\n",
    "for batch_idx, (x_batch, y_batch) in enumerate(test_loader):\n",
    "    x_batch, y_batch = x_batch.to(device), y_batch.to(device)\n",
    "    adv_x_batch = gen_adv_x_batch(x_batch, y_batch, 'fgsm')\n",
    "    adv_x_batch = adv_x_batch.to(device)\n",
    "    \n",
    "    out = model(adv_x_batch)\n",
    "    pred = torch.max(out, dim=1)[1]\n",
    "    acc = pred.eq(y_batch).sum().item()\n",
    "    tot_acc += acc\n",
    "    tot_test += adv_x_batch.size()[0]\n",
    "    \n",
    "print(f\"Adv Accuracy: {tot_acc/tot_test}\")"
   ]
  },
  {
   "cell_type": "code",
   "execution_count": null,
   "id": "aa3eccbb-63da-48b1-935f-112bbf88450e",
   "metadata": {},
   "outputs": [],
   "source": []
  }
 ],
 "metadata": {
  "kernelspec": {
   "display_name": "Python 3 (ipykernel)",
   "language": "python",
   "name": "python3"
  },
  "language_info": {
   "codemirror_mode": {
    "name": "ipython",
    "version": 3
   },
   "file_extension": ".py",
   "mimetype": "text/x-python",
   "name": "python",
   "nbconvert_exporter": "python",
   "pygments_lexer": "ipython3",
   "version": "3.8.8"
  }
 },
 "nbformat": 4,
 "nbformat_minor": 5
}
