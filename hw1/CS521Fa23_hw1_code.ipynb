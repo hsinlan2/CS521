{
 "cells": [
  {
   "cell_type": "code",
   "execution_count": 1,
   "id": "5b3feeaf",
   "metadata": {},
   "outputs": [],
   "source": [
    "import torch\n",
    "import torch.nn as nn"
   ]
  },
  {
   "cell_type": "markdown",
   "id": "e7d3e93b",
   "metadata": {},
   "source": [
    "### Problem 1(h)"
   ]
  },
  {
   "cell_type": "code",
   "execution_count": 2,
   "id": "9b63b41e",
   "metadata": {},
   "outputs": [
    {
     "name": "stdout",
     "output_type": "stream",
     "text": [
      "Original Class:  2\n"
     ]
    }
   ],
   "source": [
    "# fix seed so that random initialization always performs the same \n",
    "torch.manual_seed(1)\n",
    "\n",
    "# create the model N as described in the question\n",
    "N = nn.Sequential(nn.Linear(10, 10, bias=False),\n",
    "                  nn.ReLU(),\n",
    "                  nn.Linear(10, 10, bias=False),\n",
    "                  nn.ReLU(),\n",
    "                  nn.Linear(10, 3, bias=False))\n",
    "\n",
    "# random input\n",
    "x = torch.rand((1,10)) # the first dimension is the batch size; the following dimensions the actual dimension of the data\n",
    "x.requires_grad_() # this is required so we can compute the gradient w.r.t x\n",
    "\n",
    "t = 1 # target class\n",
    "\n",
    "epsReal = 0.4 #depending on your data this might be large or small\n",
    "eps = epsReal - 1e-7 # small constant to offset floating-point erros\n",
    "\n",
    "# The network N classfies x as belonging to class 2\n",
    "original_class = N(x).argmax(dim=1).item()  # TO LEARN: make sure you understand this expression\n",
    "print(\"Original Class: \", original_class)\n",
    "assert(original_class == 2)\n",
    "\n",
    "# compute gradient\n",
    "# note that CrossEntropyLoss() combines the cross-entropy loss and an implicit softmax function\n",
    "L = nn.CrossEntropyLoss()\n",
    "loss = L(N(x), torch.tensor([t], dtype=torch.long)) # TO LEARN: make sure you understand this line\n",
    "loss.backward() "
   ]
  },
  {
   "cell_type": "code",
   "execution_count": 3,
   "id": "dd99f012",
   "metadata": {},
   "outputs": [],
   "source": [
    "# your code here\n",
    "# adv_x should be computed from x according to the fgsm-style perturbation such that the new class of xBar is the target class t above\n",
    "# hint: you can compute the gradient of the loss w.r.t to x as x.grad\n",
    "adv_x = x - eps * x.grad.sign()\n",
    "\n",
    "new_class = N(adv_x).argmax(dim=1).item()\n",
    "if new_class == 0:\n",
    "    print(\"New Class: \", new_class)\n",
    "\n",
    "\n",
    "assert(new_class == t)\n",
    "# it is not enough that adv_x is classified as t. We also need to make sure it is 'close' to the original x. \n",
    "assert( torch.norm((x-adv_x), p=float('inf')) <= epsReal)"
   ]
  },
  {
   "cell_type": "code",
   "execution_count": 4,
   "id": "0c204c2a",
   "metadata": {},
   "outputs": [
    {
     "data": {
      "text/plain": [
       "tensor(1.2649, grad_fn=<NormBackward0>)"
      ]
     },
     "execution_count": 4,
     "metadata": {},
     "output_type": "execute_result"
    }
   ],
   "source": [
    "torch.norm((x-adv_x)) "
   ]
  },
  {
   "cell_type": "markdown",
   "id": "8ffda84b",
   "metadata": {},
   "source": [
    "### Problem 1(i)"
   ]
  },
  {
   "cell_type": "code",
   "execution_count": 5,
   "id": "245ae8eb",
   "metadata": {},
   "outputs": [],
   "source": [
    "import torch\n",
    "import torch.nn as nn\n",
    "import numpy as np"
   ]
  },
  {
   "cell_type": "code",
   "execution_count": 6,
   "id": "7e042862",
   "metadata": {},
   "outputs": [],
   "source": [
    "t = 0\n",
    "epsReal = 0.5\n",
    "eps = epsReal - 1e-7\n",
    "alpha = 0.2 - 1e-7"
   ]
  },
  {
   "cell_type": "code",
   "execution_count": 7,
   "id": "8c098400",
   "metadata": {},
   "outputs": [],
   "source": [
    "# fix seed so that random initialization always performs the same \n",
    "torch.manual_seed(1)\n",
    "# create the model N as described in the question\n",
    "N = nn.Sequential(nn.Linear(10, 10, bias=False),\n",
    "                  nn.ReLU(),\n",
    "                  nn.Linear(10, 10, bias=False),\n",
    "                  nn.ReLU(),\n",
    "                  nn.Linear(10, 3, bias=False))\n",
    "\n",
    "# random input\n",
    "x = torch.rand((1,10))"
   ]
  },
  {
   "cell_type": "code",
   "execution_count": 8,
   "id": "51cf1124",
   "metadata": {},
   "outputs": [],
   "source": [
    "adv_x = x.clone()"
   ]
  },
  {
   "cell_type": "code",
   "execution_count": 9,
   "id": "d5eed76e",
   "metadata": {},
   "outputs": [
    {
     "name": "stdout",
     "output_type": "stream",
     "text": [
      "number of iterations in iterative fgsm till success: 5\n"
     ]
    }
   ],
   "source": [
    "pred=N(x).argmax(dim=1).item()\n",
    "num_iter=0\n",
    "while pred !=t:\n",
    "    adv_x = adv_x.clone().detach()\n",
    "    adv_x.requires_grad_()\n",
    "    \n",
    "    L = nn.CrossEntropyLoss()\n",
    "    loss = L(N(adv_x), torch.tensor([t], dtype=torch.long))\n",
    "    N.zero_grad()\n",
    "    loss.backward() \n",
    "   \n",
    "    x_grad = adv_x.grad\n",
    "    x_iter = adv_x - alpha * x_grad.detach().sign()\n",
    "    \n",
    "    adv_x=torch.max(torch.min(x_iter, x + eps), x - eps)  \n",
    "    \n",
    "    pred=N(adv_x).argmax(dim=1).item()\n",
    "    \n",
    "    num_iter=num_iter+1\n",
    "print(f\"number of iterations in iterative fgsm till success: {num_iter}\")"
   ]
  },
  {
   "cell_type": "code",
   "execution_count": 10,
   "id": "3b3afb93",
   "metadata": {},
   "outputs": [],
   "source": [
    "assert(N(adv_x).argmax(dim=1).item() == t)"
   ]
  },
  {
   "cell_type": "code",
   "execution_count": 11,
   "id": "0b898da7",
   "metadata": {},
   "outputs": [],
   "source": [
    "assert(torch.norm((x-adv_x), p=float('inf')) <= epsReal)"
   ]
  },
  {
   "cell_type": "code",
   "execution_count": 12,
   "id": "7d7ec934",
   "metadata": {},
   "outputs": [
    {
     "data": {
      "text/plain": [
       "tensor(0.5000, grad_fn=<NormBackward0>)"
      ]
     },
     "execution_count": 12,
     "metadata": {},
     "output_type": "execute_result"
    }
   ],
   "source": [
    "torch.norm((x-adv_x), p=float('inf'))"
   ]
  },
  {
   "cell_type": "code",
   "execution_count": 13,
   "id": "c9e40e93",
   "metadata": {},
   "outputs": [
    {
     "data": {
      "text/plain": [
       "tensor(1.2042, grad_fn=<NormBackward0>)"
      ]
     },
     "execution_count": 13,
     "metadata": {},
     "output_type": "execute_result"
    }
   ],
   "source": [
    "torch.norm((x-adv_x))"
   ]
  },
  {
   "cell_type": "code",
   "execution_count": null,
   "id": "44f1c2db",
   "metadata": {},
   "outputs": [],
   "source": []
  }
 ],
 "metadata": {
  "kernelspec": {
   "display_name": "Python 3 (ipykernel)",
   "language": "python",
   "name": "python3"
  },
  "language_info": {
   "codemirror_mode": {
    "name": "ipython",
    "version": 3
   },
   "file_extension": ".py",
   "mimetype": "text/x-python",
   "name": "python",
   "nbconvert_exporter": "python",
   "pygments_lexer": "ipython3",
   "version": "3.8.8"
  }
 },
 "nbformat": 4,
 "nbformat_minor": 5
}
