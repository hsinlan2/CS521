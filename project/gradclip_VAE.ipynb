{
 "cells": [
  {
   "cell_type": "code",
   "execution_count": 1,
   "id": "ed25f5c1",
   "metadata": {
    "scrolled": true
   },
   "outputs": [],
   "source": [
    "import torch\n",
    "import torch.nn as nn\n",
    "import torch.optim as optim\n",
    "from torchvision import datasets, transforms\n",
    "import numpy as np\n",
    "import matplotlib.pyplot as plt"
   ]
  },
  {
   "cell_type": "code",
   "execution_count": 2,
   "id": "b12afccd-9380-4ae7-9635-7e02e92cca9c",
   "metadata": {},
   "outputs": [
    {
     "name": "stdout",
     "output_type": "stream",
     "text": [
      "cuda\n"
     ]
    }
   ],
   "source": [
    "# Get Device\n",
    "device = torch.device('cuda' if torch.cuda.is_available() else 'cpu')\n",
    "print(device)"
   ]
  },
  {
   "cell_type": "code",
   "execution_count": 3,
   "id": "2dba1b65-9d7e-4549-b060-5e0ca8878308",
   "metadata": {},
   "outputs": [],
   "source": [
    "# Define the VAE architecture\n",
    "class VAE(nn.Module):\n",
    "    def __init__(self, input_dim, hidden_dim, latent_dim):\n",
    "        super(VAE, self).__init__()\n",
    "        \n",
    "        self.encoder = nn.Sequential(\n",
    "            nn.Linear(input_dim, hidden_dim),\n",
    "            nn.ReLU(),\n",
    "            nn.Linear(hidden_dim, latent_dim * 2)  # mu and logvar\n",
    "        )\n",
    "        \n",
    "        self.decoder = nn.Sequential(\n",
    "            nn.Linear(latent_dim, hidden_dim),\n",
    "            nn.ReLU(),\n",
    "            nn.Linear(hidden_dim, input_dim),\n",
    "            nn.Sigmoid()\n",
    "        )\n",
    "\n",
    "    def encode(self, x):\n",
    "        x = x.view(-1, 28 * 28)  # Flatten MNIST images\n",
    "        hidden = self.encoder(x)\n",
    "        mu, logvar = torch.chunk(hidden, 2, dim=1)\n",
    "        return mu, logvar\n",
    "\n",
    "    def decode(self, z):\n",
    "        reconstructed = self.decoder(z)\n",
    "        return reconstructed\n",
    "\n",
    "    def reparameterize(self, mu, logvar):\n",
    "        std = torch.exp(0.5 * logvar)\n",
    "        eps = torch.randn_like(std)\n",
    "        return mu + eps * std\n",
    "\n",
    "    def forward(self, x):\n",
    "        mu, logvar = self.encode(x)\n",
    "        z = self.reparameterize(mu, logvar)\n",
    "        reconstructed = self.decode(z)\n",
    "        return reconstructed, mu, logvar"
   ]
  },
  {
   "cell_type": "code",
   "execution_count": 4,
   "id": "4399597f-b0a9-474f-8520-e0746d2146b1",
   "metadata": {},
   "outputs": [],
   "source": [
    "# Load MNIST dataset\n",
    "transform = transforms.Compose([\n",
    "    transforms.ToTensor(),\n",
    "    transforms.Normalize((0.5,), (0.5,))\n",
    "])\n",
    "\n",
    "train_loader = torch.utils.data.DataLoader(\n",
    "    datasets.MNIST('data', train=True, download=True, transform=transform),\n",
    "    batch_size=128, shuffle=True\n",
    ")"
   ]
  },
  {
   "cell_type": "code",
   "execution_count": 5,
   "id": "c78419d8-9560-4798-befb-74528ec0cffe",
   "metadata": {},
   "outputs": [],
   "source": [
    "# Initialize VAE model\n",
    "input_dim = 28 * 28\n",
    "hidden_dim = 256\n",
    "latent_dim = 20\n",
    "vae = VAE(input_dim, hidden_dim, latent_dim).to(device)\n",
    "\n",
    "# Define optimizer and loss function\n",
    "optimizer = optim.Adam(vae.parameters(), lr=1e-3)\n",
    "criterion = nn.BCELoss(reduction='sum')"
   ]
  },
  {
   "cell_type": "code",
   "execution_count": 6,
   "id": "6307e809-936e-4cfc-a3a8-2f4ce23823e8",
   "metadata": {},
   "outputs": [
    {
     "name": "stdout",
     "output_type": "stream",
     "text": [
      "Epoch 1/20, Loss: -27724.928519319663\n",
      "Epoch 2/20, Loss: -40525.334395833335\n",
      "Epoch 3/20, Loss: -44988.3949\n",
      "Epoch 4/20, Loss: -48747.497175\n",
      "Epoch 5/20, Loss: -51285.72094166667\n",
      "Epoch 6/20, Loss: -52938.809225\n",
      "Epoch 7/20, Loss: -54361.05010833334\n",
      "Epoch 8/20, Loss: -55054.533391666664\n",
      "Epoch 9/20, Loss: -55815.69231666667\n",
      "Epoch 10/20, Loss: -56359.107658333334\n",
      "Epoch 11/20, Loss: -56724.80285\n",
      "Epoch 12/20, Loss: -57069.273441666664\n",
      "Epoch 13/20, Loss: -57319.61955833333\n",
      "Epoch 14/20, Loss: -57620.66090833333\n",
      "Epoch 15/20, Loss: -57807.118916666666\n",
      "Epoch 16/20, Loss: -58168.368258333336\n",
      "Epoch 17/20, Loss: -58356.25575\n",
      "Epoch 18/20, Loss: -58525.35056666667\n",
      "Epoch 19/20, Loss: -58793.24408333333\n",
      "Epoch 20/20, Loss: -58986.56734166667\n"
     ]
    }
   ],
   "source": [
    "# Inside your training loop\n",
    "def train_vae(model, optimizer, criterion, train_loader, num_epochs=20, clip_value=1.0):\n",
    "    model.train()\n",
    "    for epoch in range(num_epochs):\n",
    "        total_loss = 0.0\n",
    "        for batch_idx, (data, _) in enumerate(train_loader):\n",
    "            optimizer.zero_grad()\n",
    "            recon_batch, mu, logvar = model(data.to(device))\n",
    "            loss = criterion(recon_batch, data.view(-1, 784).to(device))\n",
    "            kl_divergence = -0.5 * torch.sum(1 + logvar - mu.pow(2) - logvar.exp())\n",
    "            loss += kl_divergence\n",
    "            loss.backward()\n",
    "            \n",
    "            # Gradient Clipping\n",
    "            torch.nn.utils.clip_grad_norm_(model.parameters(), clip_value)\n",
    "            \n",
    "            optimizer.step()\n",
    "            total_loss += loss.item()\n",
    "        \n",
    "        print(f\"Epoch {epoch+1}/{num_epochs}, Loss: {total_loss / len(train_loader.dataset)}\")\n",
    "\n",
    "# Train the VAE with gradient clipping\n",
    "train_vae(vae, optimizer, criterion, train_loader, clip_value=0.4)  # Set clip_value to your desired threshold"
   ]
  },
  {
   "cell_type": "code",
   "execution_count": 7,
   "id": "0dc0fb0d-f6a5-40d7-a337-7715857b64ea",
   "metadata": {},
   "outputs": [],
   "source": [
    "# Latent space attack function\n",
    "def latent_space_attack(vae, xo, xt, lambda_val=0.3, num_iterations=3000):\n",
    "    vae.eval()\n",
    "    xo = xo.view(-1, 28 * 28)\n",
    "    xt = xt.view(-1, 28 * 28)\n",
    "    \n",
    "    xo_perturbed = xo.clone().requires_grad_()\n",
    "    optimizer = torch.optim.Adam([xo_perturbed], lr=1e-3)\n",
    "    \n",
    "    for i in range(num_iterations):\n",
    "        optimizer.zero_grad()\n",
    "        \n",
    "        reconstructed_xo, mu_xo, logvar_xo = vae(xo_perturbed)\n",
    "        reconstructed_xt, mu_xt, logvar_xt = vae(xt)\n",
    "        \n",
    "        kl_divergence = torch.sum(0.5 * (logvar_xo.exp() - logvar_xo - 1 + logvar_xt))\n",
    "        l2_norm = torch.sum((mu_xo - mu_xt) ** 2)  # Using mean difference for closeness\n",
    "        \n",
    "        loss = kl_divergence + lambda_val * l2_norm\n",
    "        \n",
    "        loss.backward()\n",
    "        optimizer.step()\n",
    "        \n",
    "    return xo_perturbed.detach()"
   ]
  },
  {
   "cell_type": "code",
   "execution_count": null,
   "id": "6e85479f-7da4-4ecd-920f-ba016d6db2b8",
   "metadata": {},
   "outputs": [],
   "source": [
    "# Example usage of the attack\n",
    "target_idx = 0  # Choose a target image index\n",
    "input_idx = 1  # Choose an input image index\n",
    "\n",
    "xt, _ = train_loader.dataset[target_idx]\n",
    "xo, _ = train_loader.dataset[input_idx]\n",
    "\n",
    "perturbed_xo = latent_space_attack(vae.to('cpu'), xo, xt)"
   ]
  },
  {
   "cell_type": "code",
   "execution_count": null,
   "id": "0308ecc1-6430-4a12-9009-81f3e96e34f5",
   "metadata": {},
   "outputs": [],
   "source": [
    "# Visualize original, target, and perturbed images\n",
    "def show_images(original, target, perturbed):\n",
    "    fig, axs = plt.subplots(1, 3)\n",
    "    \n",
    "    axs[0].imshow(original.reshape(28, 28), cmap='gray')\n",
    "    axs[0].set_title('Original')\n",
    "    axs[0].axis('off')\n",
    "    \n",
    "    axs[1].imshow(target.reshape(28, 28), cmap='gray')\n",
    "    axs[1].set_title('Target')\n",
    "    axs[1].axis('off')\n",
    "    \n",
    "    axs[2].imshow(perturbed.reshape(28, 28), cmap='gray')\n",
    "    axs[2].set_title('Perturbed')\n",
    "    axs[2].axis('off')\n",
    "    \n",
    "    plt.show()"
   ]
  },
  {
   "cell_type": "code",
   "execution_count": null,
   "id": "ec935c3e-1298-4068-8573-930ee33e9176",
   "metadata": {},
   "outputs": [],
   "source": [
    "show_images(xo.squeeze().detach().numpy(), xt.squeeze().detach().numpy(), perturbed_xo.squeeze())"
   ]
  },
  {
   "cell_type": "code",
   "execution_count": 47,
   "id": "264dc8fc-8d8e-4200-8d30-7b997432e888",
   "metadata": {},
   "outputs": [],
   "source": [
    "# Example usage of the attack\n",
    "target_idx = 0  # Choose a target image index\n",
    "input_idx = 1  # Choose an input image index\n",
    "\n",
    "xt, _ = train_loader.dataset[target_idx]\n",
    "xo, _ = train_loader.dataset[input_idx]\n",
    "\n",
    "perturbed_xo = latent_space_attack(vae, xo, xt)\n",
    "\n",
    "# Reconstruction using the perturbed image\n",
    "reconstructed_perturbed_xo, _, _ = vae(perturbed_xo)"
   ]
  },
  {
   "cell_type": "code",
   "execution_count": 48,
   "id": "cb10b380-c1ee-4540-bb34-02643efa6118",
   "metadata": {},
   "outputs": [],
   "source": [
    "# Visualize original, target, perturbed, and reconstructed images\n",
    "def show_images(original, target, perturbed, reconstructed_original, reconstructed_perturbed):\n",
    "    fig, axs = plt.subplots(1, 5, figsize=(20, 6))\n",
    "    \n",
    "    axs[0].imshow(original.reshape(28, 28), cmap='gray')\n",
    "    axs[0].set_title('Original')\n",
    "    axs[0].axis('off')\n",
    "    \n",
    "    axs[1].imshow(target.reshape(28, 28), cmap='gray')\n",
    "    axs[1].set_title('Target')\n",
    "    axs[1].axis('off')\n",
    "    \n",
    "    axs[2].imshow(perturbed.reshape(28, 28), cmap='gray')\n",
    "    axs[2].set_title('Perturbed')\n",
    "    axs[2].axis('off')\n",
    "    \n",
    "    axs[3].imshow(reconstructed_original.reshape(28, 28), cmap='gray')\n",
    "    axs[3].set_title('Reconst from Orig')\n",
    "    axs[3].axis('off')\n",
    "    \n",
    "    axs[4].imshow(reconstructed_perturbed.reshape(28, 28), cmap='gray')\n",
    "    axs[4].set_title('Reconst from Perturb')\n",
    "    axs[4].axis('off')\n",
    "    \n",
    "    plt.tight_layout()\n",
    "    plt.show()\n",
    "plt.rcParams.update({'font.size': 22})"
   ]
  },
  {
   "cell_type": "code",
   "execution_count": 49,
   "id": "a14257b7-3e3d-4bd3-9857-92e500bfbd84",
   "metadata": {},
   "outputs": [
    {
     "data": {
      "image/png": "[encoded data removed]",
      "text/plain": [
       "<Figure size 1200x600 with 5 Axes>"
      ]
     },
     "metadata": {},
     "output_type": "display_data"
    }
   ],
   "source": [
    "reconstructed_xo, _, _ = vae(xo.unsqueeze(0))\n",
    "show_images(\n",
    "    xo.squeeze().detach().cpu().numpy(),\n",
    "    xt.squeeze().detach().cpu().numpy(),\n",
    "    perturbed_xo.squeeze().detach().cpu().numpy(),\n",
    "    reconstructed_xo.squeeze().detach().cpu().numpy(),\n",
    "    reconstructed_perturbed_xo.squeeze().detach().cpu().numpy()\n",
    ")"
   ]
  },
  {
   "cell_type": "code",
   "execution_count": 80,
   "id": "f335f358-974e-41d4-8b4c-24e160c14996",
   "metadata": {},
   "outputs": [
    {
     "name": "stdout",
     "output_type": "stream",
     "text": [
      "Probability within r: 0.5415333333333333\n",
      "Probability outside r: 0.4584666666666667\n"
     ]
    }
   ],
   "source": [
    "# Function to compute reconstruction distances for each input in the dataset\n",
    "def compute_reconstruction_distances(vae_model, inputs):\n",
    "    distances = []\n",
    "    for x in inputs:\n",
    "        with torch.no_grad():\n",
    "            # Encode the input x to get mean and logvar\n",
    "            mu, logvar = vae_model.encode(x)\n",
    "            # Reparameterize to get the latent representation z\n",
    "            z = vae_model.reparameterize(mu, logvar)\n",
    "            # Reconstruct the input from the latent space\n",
    "            reconstructed = vae_model.decode(z)\n",
    "            # Resize the reconstructed tensor to match the input size\n",
    "            reconstructed = reconstructed.view(-1, 28 * 28)\n",
    "            # Compute the reconstruction distance and store it\n",
    "            dist = torch.dist(x.view(-1, 28 * 28), reconstructed, p=2)  # Using L2 norm\n",
    "            distances.append(dist.item())\n",
    "    return distances\n",
    "\n",
    "# Function to measure r-robustness based on the computed distances\n",
    "def measure_r_robustness_vae(vae_model, inputs, r):\n",
    "    distances = compute_reconstruction_distances(vae_model, inputs)\n",
    "    within_r = np.sum(np.array(distances) <= r)\n",
    "    outside_r = len(inputs) - within_r\n",
    "    within_r_prob = within_r / len(inputs)\n",
    "    outside_r_prob = outside_r / len(inputs)\n",
    "    return within_r_prob, outside_r_prob\n",
    "\n",
    "\n",
    "data_only = [data for data, _ in train_loader.dataset]\n",
    "r = 26  \n",
    "within_r_prob, outside_r_prob = measure_r_robustness_vae(vae, data_only, r)\n",
    "print(f\"Probability within r: {within_r_prob}\")\n",
    "print(f\"Probability outside r: {outside_r_prob}\")\n"
   ]
  },
  {
   "cell_type": "code",
   "execution_count": null,
   "id": "71812fc4-ffbc-4d91-8a20-c291e48cf7cc",
   "metadata": {},
   "outputs": [],
   "source": []
  },
  {
   "cell_type": "code",
   "execution_count": null,
   "id": "e497de5a-2d41-41c3-b78e-06b0b19c5f13",
   "metadata": {},
   "outputs": [],
   "source": []
  }
 ],
 "metadata": {
  "kernelspec": {
   "display_name": "Python 3 (ipykernel)",
   "language": "python",
   "name": "python3"
  },
  "language_info": {
   "codemirror_mode": {
    "name": "ipython",
    "version": 3
   },
   "file_extension": ".py",
   "mimetype": "text/x-python",
   "name": "python",
   "nbconvert_exporter": "python",
   "pygments_lexer": "ipython3",
   "version": "3.8.17"
  }
 },
 "nbformat": 4,
 "nbformat_minor": 5
}
